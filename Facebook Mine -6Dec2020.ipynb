{
 "cells": [
  {
   "cell_type": "markdown",
   "metadata": {},
   "source": [
    "# Social Network Graph link prediction - Facebook Dataset"
   ]
  },
  {
   "cell_type": "markdown",
   "metadata": {},
   "source": [
    "### Problem Statement\n",
    "\n",
    "Given a directed social graph, predict the connection (link) between the nodes"
   ]
  },
  {
   "cell_type": "markdown",
   "metadata": {},
   "source": [
    "### Data Overview\n",
    "Taken data from facebook's recruting challenge on kaggle https://www.kaggle.com/c/FacebookRecruiting  \n",
    "data contains two columns source and destination edge in graph. The graph is a directed graph. \n",
    "    - Data columns (total 2 columns):  \n",
    "    - source_node         int64  \n",
    "    - destination_node    int64  "
   ]
  },
  {
   "cell_type": "markdown",
   "metadata": {},
   "source": [
    "### Business Objective and constraint\n",
    "\n",
    "1. There is no need of latency requirement. As given a time the graph is constant(as time changes the graph changes).So if we are asked to predict the link between the nodes we can do it beforehand also. There is no need to do it real time.\n",
    "\n",
    "2. We need the probability of prediction i.e. we need the probabilty if there exist any edge between the nodes."
   ]
  },
  {
   "cell_type": "markdown",
   "metadata": {},
   "source": [
    "### Performance Metric\n",
    "\n",
    "1. May be log loss\n",
    "2. Accuracy score\n",
    "3. Confusion matrix\n",
    "4. F1 score - Facebook has decided winner based on F1 score."
   ]
  },
  {
   "cell_type": "code",
   "execution_count": 1,
   "metadata": {},
   "outputs": [],
   "source": [
    "##Importing Libraries\n",
    "\n",
    "import warnings\n",
    "warnings.filterwarnings(\"ignore\")\n",
    "\n",
    "import networkx as nx\n",
    "import pandas as pd\n",
    "import numpy as np\n",
    "import matplotlib.pyplot as plt\n",
    "import seaborn as sns\n",
    "import pickle\n",
    "import os\n",
    "import math\n",
    "from tqdm import tqdm\n",
    "tqdm.pandas()\n"
   ]
  },
  {
   "cell_type": "code",
   "execution_count": 2,
   "metadata": {},
   "outputs": [
    {
     "data": {
      "text/html": [
       "<div>\n",
       "<style scoped>\n",
       "    .dataframe tbody tr th:only-of-type {\n",
       "        vertical-align: middle;\n",
       "    }\n",
       "\n",
       "    .dataframe tbody tr th {\n",
       "        vertical-align: top;\n",
       "    }\n",
       "\n",
       "    .dataframe thead th {\n",
       "        text-align: right;\n",
       "    }\n",
       "</style>\n",
       "<table border=\"1\" class=\"dataframe\">\n",
       "  <thead>\n",
       "    <tr style=\"text-align: right;\">\n",
       "      <th></th>\n",
       "      <th>source_node</th>\n",
       "      <th>destination_node</th>\n",
       "    </tr>\n",
       "  </thead>\n",
       "  <tbody>\n",
       "    <tr>\n",
       "      <th>0</th>\n",
       "      <td>1</td>\n",
       "      <td>690569</td>\n",
       "    </tr>\n",
       "    <tr>\n",
       "      <th>1</th>\n",
       "      <td>1</td>\n",
       "      <td>315892</td>\n",
       "    </tr>\n",
       "    <tr>\n",
       "      <th>2</th>\n",
       "      <td>1</td>\n",
       "      <td>189226</td>\n",
       "    </tr>\n",
       "    <tr>\n",
       "      <th>3</th>\n",
       "      <td>2</td>\n",
       "      <td>834328</td>\n",
       "    </tr>\n",
       "    <tr>\n",
       "      <th>4</th>\n",
       "      <td>2</td>\n",
       "      <td>1615927</td>\n",
       "    </tr>\n",
       "  </tbody>\n",
       "</table>\n",
       "</div>"
      ],
      "text/plain": [
       "   source_node  destination_node\n",
       "0            1            690569\n",
       "1            1            315892\n",
       "2            1            189226\n",
       "3            2            834328\n",
       "4            2           1615927"
      ]
     },
     "execution_count": 2,
     "metadata": {},
     "output_type": "execute_result"
    }
   ],
   "source": [
    "train_data = pd.read_csv(r'F:\\data\\Facebook friend recommendation\\train\\train.csv')\n",
    "train_data.head()"
   ]
  },
  {
   "cell_type": "code",
   "execution_count": 3,
   "metadata": {},
   "outputs": [
    {
     "name": "stdout",
     "output_type": "stream",
     "text": [
      "The no of edges are 9437519\n"
     ]
    }
   ],
   "source": [
    "print(\"The no of edges are\", len(train_data))"
   ]
  },
  {
   "cell_type": "code",
   "execution_count": 4,
   "metadata": {},
   "outputs": [
    {
     "data": {
      "text/plain": [
       "source_node         0\n",
       "destination_node    0\n",
       "dtype: int64"
      ]
     },
     "execution_count": 4,
     "metadata": {},
     "output_type": "execute_result"
    }
   ],
   "source": [
    "train_data.isna().sum()"
   ]
  },
  {
   "cell_type": "code",
   "execution_count": 5,
   "metadata": {},
   "outputs": [
    {
     "data": {
      "text/plain": [
       "False    9437519\n",
       "dtype: int64"
      ]
     },
     "execution_count": 5,
     "metadata": {},
     "output_type": "execute_result"
    }
   ],
   "source": [
    "train_data.duplicated().value_counts()"
   ]
  },
  {
   "cell_type": "raw",
   "metadata": {},
   "source": [
    "train_data.to_csv(r'F:\\data\\Facebook friend recommendation\\train\\mine\\train_data.csv', header=False, index=False)\n",
    "print(\"The file is saved to local disk\")"
   ]
  },
  {
   "cell_type": "code",
   "execution_count": 2,
   "metadata": {},
   "outputs": [],
   "source": [
    "#Loading the data in graph form\n",
    "g = nx.read_edgelist(r'F:\\data\\Facebook friend recommendation\\train\\mine\\train_data.csv', delimiter=',', \\\n",
    "                     create_using=nx.DiGraph(), nodetype = int)"
   ]
  },
  {
   "cell_type": "code",
   "execution_count": 3,
   "metadata": {},
   "outputs": [
    {
     "name": "stdout",
     "output_type": "stream",
     "text": [
      "Name: \n",
      "Type: DiGraph\n",
      "Number of nodes: 1862220\n",
      "Number of edges: 9437519\n",
      "Average in degree:   5.0679\n",
      "Average out degree:   5.0679\n"
     ]
    }
   ],
   "source": [
    "print(nx.info(g))"
   ]
  },
  {
   "cell_type": "code",
   "execution_count": 2,
   "metadata": {},
   "outputs": [],
   "source": [
    "#Displaying a random graph of small size\n",
    "\n",
    "subgraph_data = pd.read_csv(r'F:\\data\\Facebook friend recommendation\\mine\\train_data.csv',nrows=50)\n",
    "subgraph_data.to_csv(r'F:\\data\\Facebook friend recommendation\\mine\\subgraph_data.csv', header=False, index=False)"
   ]
  },
  {
   "cell_type": "code",
   "execution_count": 3,
   "metadata": {},
   "outputs": [],
   "source": [
    "#Loading the data in graph form\n",
    "g_subgraph = nx.read_edgelist(r'F:\\data\\Facebook friend recommendation\\mine\\subgraph_data.csv', delimiter=',', \\\n",
    "                     create_using=nx.DiGraph(), nodetype = int)"
   ]
  },
  {
   "cell_type": "code",
   "execution_count": 4,
   "metadata": {},
   "outputs": [
    {
     "name": "stdout",
     "output_type": "stream",
     "text": [
      "Name: \n",
      "Type: DiGraph\n",
      "Number of nodes: 66\n",
      "Number of edges: 50\n",
      "Average in degree:   0.7576\n",
      "Average out degree:   0.7576\n"
     ]
    },
    {
     "data": {
      "image/png": "[encoded data removed]",
      "text/plain": [
       "<Figure size 576x432 with 1 Axes>"
      ]
     },
     "metadata": {},
     "output_type": "display_data"
    }
   ],
   "source": [
    "plt.figure(figsize=(8,6))\n",
    "nx.draw(g_subgraph, pos=nx.spring_layout(g_subgraph), with_labels = True) #pos == position which means the positon on graph where each node lies\n",
    "plt.draw()\n",
    "print(nx.info(g_subgraph))"
   ]
  },
  {
   "cell_type": "markdown",
   "metadata": {},
   "source": [
    "# Exploratory Data Analysis"
   ]
  },
  {
   "cell_type": "code",
   "execution_count": 6,
   "metadata": {},
   "outputs": [
    {
     "name": "stdout",
     "output_type": "stream",
     "text": [
      "The number of nodes in graph is 1862220\n"
     ]
    }
   ],
   "source": [
    "print(\"The number of nodes in graph is\",len(g.nodes))"
   ]
  },
  {
   "cell_type": "code",
   "execution_count": 8,
   "metadata": {},
   "outputs": [
    {
     "data": {
      "image/png": "[encoded data removed]",
      "text/plain": [
       "<Figure size 720x432 with 1 Axes>"
      ]
     },
     "metadata": {
      "needs_background": "light"
     },
     "output_type": "display_data"
    }
   ],
   "source": [
    "in_degree = list(dict(g.in_degree).values())\n",
    "plt.figure(figsize=(10,6))\n",
    "sns.distplot(in_degree, hist = False)\n",
    "plt.xlabel('Index No')\n",
    "plt.ylabel('No Of Followers')\n",
    "#plt.xscale(\"log\")\n",
    "plt.show()"
   ]
  },
  {
   "cell_type": "code",
   "execution_count": 9,
   "metadata": {},
   "outputs": [
    {
     "data": {
      "image/png": "[encoded data removed]",
      "text/plain": [
       "<Figure size 720x432 with 1 Axes>"
      ]
     },
     "metadata": {
      "needs_background": "light"
     },
     "output_type": "display_data"
    }
   ],
   "source": [
    "np.set_printoptions(suppress=True)\n",
    "in_degree_sorted = sorted(list(dict(g.in_degree).values()))\n",
    "plt.figure(figsize=(10,6))\n",
    "plt.plot(in_degree_sorted)\n",
    "plt.xlabel('Index No')\n",
    "plt.ylabel('No Of Followers')\n",
    "plt.xscale(\"linear\")\n",
    "plt.ticklabel_format(useOffset=False, style ='plain')\n",
    "#plt.xscale(\"log\")\n",
    "plt.show()"
   ]
  },
  {
   "cell_type": "code",
   "execution_count": 11,
   "metadata": {},
   "outputs": [
    {
     "name": "stdout",
     "output_type": "stream",
     "text": [
      "The top 10 count of followers are :\n"
     ]
    },
    {
     "data": {
      "text/plain": [
       "1    552867\n",
       "2    269805\n",
       "0    188043\n",
       "3    169779\n",
       "4    120046\n",
       "5     89894\n",
       "6     70225\n",
       "7     56187\n",
       "8     45841\n",
       "9     38293\n",
       "dtype: int64"
      ]
     },
     "execution_count": 11,
     "metadata": {},
     "output_type": "execute_result"
    }
   ],
   "source": [
    "print(\"The top 10 count of followers are :\")\n",
    "pd.Series(in_degree).value_counts()[0:10]"
   ]
  },
  {
   "cell_type": "code",
   "execution_count": 12,
   "metadata": {},
   "outputs": [
    {
     "name": "stdout",
     "output_type": "stream",
     "text": [
      "The max value of in degree is: 552\n"
     ]
    }
   ],
   "source": [
    "print(\"The max value of in degree is:\",max(in_degree))"
   ]
  },
  {
   "cell_type": "code",
   "execution_count": 20,
   "metadata": {},
   "outputs": [
    {
     "name": "stdout",
     "output_type": "stream",
     "text": [
      "The node which has max number of in-degree value is : 415069\n",
      "The number of in degree for 415069 is 552\n"
     ]
    }
   ],
   "source": [
    "#Which node has max in_degree?\n",
    "\n",
    "#max(dict(g.in_degree()), key = lambda x:dict(g.in_degree())[x]) #taking too much time\n",
    "\n",
    "#Checking for first 100000 nodes:\n",
    "\n",
    "in_degree_dict = dict((list(dict(g.in_degree).items()))[0:100000]) # picking up 100000 graph data\n",
    "\n",
    "print(\"The node which has max number of in-degree value is :\", max(in_degree_dict, key=lambda x:in_degree_dict[x]))\n",
    "\n",
    "print(\"The number of in degree for\",max(in_degree_dict, key=lambda x:in_degree_dict[x]),\"is\",in_degree_dict[max(in_degree_dict, key=lambda x:in_degree_dict[x])])"
   ]
  },
  {
   "cell_type": "code",
   "execution_count": 16,
   "metadata": {},
   "outputs": [
    {
     "name": "stdout",
     "output_type": "stream",
     "text": [
      "The 0 th percentile for in_degree is 0.0\n",
      "The 10 th percentile for in_degree is 0.0\n",
      "The 20 th percentile for in_degree is 1.0\n",
      "The 30 th percentile for in_degree is 1.0\n",
      "The 40 th percentile for in_degree is 2.0\n",
      "The 50 th percentile for in_degree is 2.0\n",
      "The 60 th percentile for in_degree is 3.0\n",
      "The 70 th percentile for in_degree is 5.0\n",
      "The 80 th percentile for in_degree is 7.0\n",
      "The 90 th percentile for in_degree is 12.0\n",
      "The 100 th percentile for in_degree is 552.0\n"
     ]
    }
   ],
   "source": [
    "for i in np.arange(0,101,10):\n",
    "    print(\"The\",i,\"th percentile for in_degree is\",np.percentile(in_degree,i))"
   ]
  },
  {
   "cell_type": "code",
   "execution_count": 21,
   "metadata": {},
   "outputs": [
    {
     "name": "stdout",
     "output_type": "stream",
     "text": [
      "The 90 th percentile for in_degree is 12.0\n",
      "The 91 th percentile for in_degree is 13.0\n",
      "The 92 th percentile for in_degree is 14.0\n",
      "The 93 th percentile for in_degree is 15.0\n",
      "The 94 th percentile for in_degree is 17.0\n",
      "The 95 th percentile for in_degree is 19.0\n",
      "The 96 th percentile for in_degree is 21.0\n",
      "The 97 th percentile for in_degree is 24.0\n",
      "The 98 th percentile for in_degree is 29.0\n",
      "The 99 th percentile for in_degree is 40.0\n",
      "The 100 th percentile for in_degree is 552.0\n"
     ]
    }
   ],
   "source": [
    "for i in np.arange(90,101,1):\n",
    "    print(\"The\",i,\"th percentile for in_degree is\",np.percentile(in_degree,i))"
   ]
  },
  {
   "cell_type": "code",
   "execution_count": 22,
   "metadata": {},
   "outputs": [
    {
     "name": "stdout",
     "output_type": "stream",
     "text": [
      "The 99.0 th percentile for in_degree is 40.0\n",
      "The 99.1 th percentile for in_degree is 42.0\n",
      "The 99.2 th percentile for in_degree is 44.0\n",
      "The 99.3 th percentile for in_degree is 47.0\n",
      "The 99.4 th percentile for in_degree is 50.0\n",
      "The 99.5 th percentile for in_degree is 55.0\n",
      "The 99.6 th percentile for in_degree is 61.0\n",
      "The 99.7 th percentile for in_degree is 70.0\n",
      "The 99.8 th percentile for in_degree is 84.0\n",
      "The 99.9 th percentile for in_degree is 112.0\n",
      "The 100.0 th percentile for in_degree is 551.9999999701977\n"
     ]
    }
   ],
   "source": [
    "for i in np.arange(99,100.1,.1):\n",
    "    print(\"The\",np.round(i,2),\"th percentile for in_degree is\",np.percentile(in_degree,i))"
   ]
  },
  {
   "cell_type": "code",
   "execution_count": 125,
   "metadata": {},
   "outputs": [
    {
     "data": {
      "image/png": "[encoded data removed]",
      "text/plain": [
       "<Figure size 720x432 with 1 Axes>"
      ]
     },
     "metadata": {
      "needs_background": "light"
     },
     "output_type": "display_data"
    }
   ],
   "source": [
    "plt.figure(figsize=(10,6))\n",
    "sns.boxplot(y = in_degree)\n",
    "plt.xscale(\"linear\")\n",
    "plt.ticklabel_format(useOffset=False, style ='plain')\n",
    "plt.title(\"Boxplot for in degree\")\n",
    "#plt.xscale(\"log\")\n",
    "plt.show()"
   ]
  },
  {
   "cell_type": "markdown",
   "metadata": {},
   "source": [
    "### 2. out_degree"
   ]
  },
  {
   "cell_type": "code",
   "execution_count": 61,
   "metadata": {},
   "outputs": [
    {
     "data": {
      "image/png": "[encoded data removed]",
      "text/plain": [
       "<Figure size 720x432 with 1 Axes>"
      ]
     },
     "metadata": {
      "needs_background": "light"
     },
     "output_type": "display_data"
    }
   ],
   "source": [
    "out_degree = list(dict(g.out_degree).values())\n",
    "plt.figure(figsize=(10,6))\n",
    "sns.distplot(out_degree, hist = False)\n",
    "plt.xlabel('Index No')\n",
    "plt.ylabel('No Of Followee')\n",
    "#plt.xscale(\"log\")\n",
    "plt.show()"
   ]
  },
  {
   "cell_type": "code",
   "execution_count": 130,
   "metadata": {},
   "outputs": [
    {
     "name": "stdout",
     "output_type": "stream",
     "text": [
      "The top 10 count of out_degree are :\n"
     ]
    },
    {
     "data": {
      "text/plain": [
       "1    495824\n",
       "0    274512\n",
       "2    247908\n",
       "3    161928\n",
       "4    116251\n",
       "5     88752\n",
       "6     69319\n",
       "7     56499\n",
       "8     46513\n",
       "9     38556\n",
       "dtype: int64"
      ]
     },
     "execution_count": 130,
     "metadata": {},
     "output_type": "execute_result"
    }
   ],
   "source": [
    "print(\"The top 10 count of out_degree are :\")\n",
    "pd.Series(out_degree).value_counts()[0:10]"
   ]
  },
  {
   "cell_type": "code",
   "execution_count": 106,
   "metadata": {},
   "outputs": [
    {
     "name": "stdout",
     "output_type": "stream",
     "text": [
      "The node which has max number of out degree value is : 4850\n",
      "The number of out degree for node 4850 is 895\n"
     ]
    }
   ],
   "source": [
    "#Which node has max out_degree?\n",
    "\n",
    "#max(dict(g.out_degree()), key = lambda x:dict(g.in_degree())[x]) #taking too much time\n",
    "\n",
    "#Checking for first 100000 nodes:\n",
    "\n",
    "out_degree_dict = dict(list(dict(g.out_degree).items())[0:100000]) # picking up 100000 graph data\n",
    "print(\"The node which has max number of out degree value is :\", max(out_degree_dict, key=lambda x:out_degree_dict[x]))\n",
    "\n",
    "print(\"The number of out degree for node\",max(out_degree_dict, key=lambda x:out_degree_dict[x]),\"is\",out_degree_dict[max(out_degree_dict, key=lambda x:out_degree_dict[x])])"
   ]
  },
  {
   "cell_type": "code",
   "execution_count": 114,
   "metadata": {},
   "outputs": [
    {
     "data": {
      "image/png": "[encoded data removed]",
      "text/plain": [
       "<Figure size 720x432 with 1 Axes>"
      ]
     },
     "metadata": {
      "needs_background": "light"
     },
     "output_type": "display_data"
    }
   ],
   "source": [
    "np.set_printoptions(suppress=True)\n",
    "out_degree_sorted = sorted(list(dict(g.out_degree).values()))\n",
    "plt.figure(figsize=(10,6))\n",
    "plt.plot(out_degree_sorted)\n",
    "plt.xlabel('Index No')\n",
    "plt.ylabel('No Of Followee')\n",
    "plt.xscale(\"linear\")\n",
    "plt.ticklabel_format(useOffset=False, style ='plain')\n",
    "#plt.xscale(\"log\")\n",
    "plt.show()"
   ]
  },
  {
   "cell_type": "code",
   "execution_count": 118,
   "metadata": {},
   "outputs": [
    {
     "data": {
      "image/png": "[encoded data removed]",
      "text/plain": [
       "<Figure size 720x432 with 1 Axes>"
      ]
     },
     "metadata": {
      "needs_background": "light"
     },
     "output_type": "display_data"
    }
   ],
   "source": [
    "np.set_printoptions(suppress=True)\n",
    "out_degree_sorted = sorted(list(dict(g.out_degree).values()))\n",
    "plt.figure(figsize=(10,6))\n",
    "plt.plot((out_degree_sorted[0:1000000]))\n",
    "plt.xlabel('Index No')\n",
    "plt.ylabel('No Of Followee')\n",
    "plt.xscale(\"linear\")\n",
    "plt.ticklabel_format(useOffset=False, style ='plain')\n",
    "#plt.xscale(\"log\")\n",
    "plt.show()"
   ]
  },
  {
   "cell_type": "code",
   "execution_count": 126,
   "metadata": {},
   "outputs": [
    {
     "name": "stdout",
     "output_type": "stream",
     "text": [
      "The 0 th percentile for out_degree is 0.0\n",
      "The 10 th percentile for out_degree is 0.0\n",
      "The 20 th percentile for out_degree is 1.0\n",
      "The 30 th percentile for out_degree is 1.0\n",
      "The 40 th percentile for out_degree is 1.0\n",
      "The 50 th percentile for out_degree is 2.0\n",
      "The 60 th percentile for out_degree is 3.0\n",
      "The 70 th percentile for out_degree is 5.0\n",
      "The 80 th percentile for out_degree is 7.0\n",
      "The 90 th percentile for out_degree is 12.0\n",
      "The 100 th percentile for out_degree is 1566.0\n"
     ]
    }
   ],
   "source": [
    "for i in np.arange(0,101,10):\n",
    "    print(\"The\",i,\"th percentile for out_degree is\",np.percentile(out_degree,i))"
   ]
  },
  {
   "cell_type": "code",
   "execution_count": 127,
   "metadata": {},
   "outputs": [
    {
     "name": "stdout",
     "output_type": "stream",
     "text": [
      "The 90 th percentile for out_degree is 12.0\n",
      "The 91 th percentile for out_degree is 13.0\n",
      "The 92 th percentile for out_degree is 14.0\n",
      "The 93 th percentile for out_degree is 15.0\n",
      "The 94 th percentile for out_degree is 17.0\n",
      "The 95 th percentile for out_degree is 19.0\n",
      "The 96 th percentile for out_degree is 21.0\n",
      "The 97 th percentile for out_degree is 24.0\n",
      "The 98 th percentile for out_degree is 29.0\n",
      "The 99 th percentile for out_degree is 40.0\n",
      "The 100 th percentile for out_degree is 1566.0\n"
     ]
    }
   ],
   "source": [
    "for i in np.arange(90,101,1):\n",
    "    print(\"The\",i,\"th percentile for out_degree is\",np.percentile(out_degree,i))"
   ]
  },
  {
   "cell_type": "code",
   "execution_count": 128,
   "metadata": {},
   "outputs": [
    {
     "name": "stdout",
     "output_type": "stream",
     "text": [
      "The 99.0 th percentile for out_degree is 40.0\n",
      "The 99.1 th percentile for out_degree is 42.0\n",
      "The 99.19999999999999 th percentile for out_degree is 45.0\n",
      "The 99.29999999999998 th percentile for out_degree is 48.0\n",
      "The 99.39999999999998 th percentile for out_degree is 52.0\n",
      "The 99.49999999999997 th percentile for out_degree is 56.0\n",
      "The 99.59999999999997 th percentile for out_degree is 63.0\n",
      "The 99.69999999999996 th percentile for out_degree is 73.0\n",
      "The 99.79999999999995 th percentile for out_degree is 90.0\n",
      "The 99.89999999999995 th percentile for out_degree is 123.0\n",
      "The 99.99999999999994 th percentile for out_degree is 1565.9999993750826\n"
     ]
    }
   ],
   "source": [
    "for i in np.arange(99,100.1,.1):\n",
    "    print(\"The\",i,\"th percentile for out_degree is\",np.percentile(out_degree,i))"
   ]
  },
  {
   "cell_type": "code",
   "execution_count": 129,
   "metadata": {},
   "outputs": [
    {
     "data": {
      "image/png": "[encoded data removed]",
      "text/plain": [
       "<Figure size 720x432 with 1 Axes>"
      ]
     },
     "metadata": {
      "needs_background": "light"
     },
     "output_type": "display_data"
    }
   ],
   "source": [
    "plt.figure(figsize=(10,6))\n",
    "sns.boxplot(y = out_degree)\n",
    "plt.xscale(\"linear\")\n",
    "plt.ticklabel_format(useOffset=False, style ='plain')\n",
    "plt.title(\"Boxplot for out_degree\")\n",
    "plt.show()"
   ]
  },
  {
   "cell_type": "code",
   "execution_count": 140,
   "metadata": {},
   "outputs": [
    {
     "name": "stdout",
     "output_type": "stream",
     "text": [
      "The number of nodes who dont have any friend / followers (in_degree = 0) are : 188043\n",
      "The percentage of lonely person (no friend) are 10.097786512871734\n"
     ]
    }
   ],
   "source": [
    "# in_degree = 0 == \"these are people who dont have any follower\n",
    "print(\"The number of nodes who dont have any followers (in_degree = 0) are :\",pd.Series(in_degree).value_counts().loc[0])\n",
    "print(\"The percentage of lonely person (no follower) are\",(pd.Series(in_degree).value_counts().loc[0]/len(in_degree))*100)"
   ]
  },
  {
   "cell_type": "code",
   "execution_count": 141,
   "metadata": {},
   "outputs": [
    {
     "name": "stdout",
     "output_type": "stream",
     "text": [
      "The number of nodes who doesnot follows anyone (out_degree = 0) are : 274512\n",
      "The percentage of celeb person (no following to others) are 14.741115442858524\n"
     ]
    }
   ],
   "source": [
    "# out_degree = 0 == \"these are people who dont have any friend/follower\n",
    "print(\"The number of nodes who doesnot follows anyone (out_degree = 0) are :\",pd.Series(out_degree).value_counts().loc[0])\n",
    "print(\"The percentage of celeb person (no following to others) are\",(pd.Series(out_degree).value_counts().loc[0]/len(out_degree))*100)"
   ]
  },
  {
   "cell_type": "code",
   "execution_count": 160,
   "metadata": {},
   "outputs": [
    {
     "name": "stdout",
     "output_type": "stream",
     "text": [
      "Checking if we have any node with degree = 0:\n",
      "False\n",
      "\n",
      "\n",
      "No node have degree = 0. It means that all the nodes have either an in_degree or out_degree.\n"
     ]
    }
   ],
   "source": [
    "#Find any node with in_degree, out_degree = 0 i.e. degree = 0\n",
    "print(\"Checking if we have any node with degree = 0:\")\n",
    "degree_set = list(set(list(dict(g.degree).values())))\n",
    "\n",
    "default_val = False\n",
    "for i in degree_set:\n",
    "    if i ==0:\n",
    "        default_val = True\n",
    "        break\n",
    "print(default_val)\n",
    "print(\"\\n\")\n",
    "print(\"No node have degree = 0. It means that all the nodes have either an in_degree or out_degree.\")"
   ]
  },
  {
   "cell_type": "code",
   "execution_count": 191,
   "metadata": {},
   "outputs": [
    {
     "name": "stderr",
     "output_type": "stream",
     "text": [
      "100%|█████████████████████████████| 1862220/1862220 [00:49<00:00, 37935.19it/s]"
     ]
    },
    {
     "name": "stdout",
     "output_type": "stream",
     "text": [
      "The number of nodes which are isolated (no predecessor and no sucessor) = 0\n"
     ]
    },
    {
     "name": "stderr",
     "output_type": "stream",
     "text": [
      "\n"
     ]
    }
   ],
   "source": [
    "#Predecessor and Successor returns all the nodes that sucessor and predessesor of a given node\n",
    "\n",
    "#It will return no of nodes which are isolated i.e. no predecesor and no sucessor\n",
    "from tqdm import tqdm\n",
    "count = 0\n",
    "for i in tqdm(g.nodes):\n",
    "    if len(list(g.predecessors(i)))==0:\n",
    "        if len(list(g.successors(i)))==0:\n",
    "            count+=1\n",
    "print(\"The number of nodes which are isolated (no predecessor and no sucessor) =\",count)\n",
    "print(\"These are the points which are isolated in social graph i.e. they dont have any follower and followee\")"
   ]
  },
  {
   "cell_type": "code",
   "execution_count": 194,
   "metadata": {},
   "outputs": [
    {
     "name": "stderr",
     "output_type": "stream",
     "text": [
      "100%|████████████████████████████| 1862220/1862220 [00:08<00:00, 228642.33it/s]"
     ]
    },
    {
     "name": "stdout",
     "output_type": "stream",
     "text": [
      "The number of nodes which are just followers and not followee (no predecessor but have sucessor) = 188043\n"
     ]
    },
    {
     "name": "stderr",
     "output_type": "stream",
     "text": [
      "\n"
     ]
    }
   ],
   "source": [
    "#Count the nodes who are just follower and not followee\n",
    "\n",
    "from tqdm import tqdm\n",
    "count = 0\n",
    "for i in tqdm(g.nodes):\n",
    "    if len(list(g.predecessors(i)))==0:\n",
    "            count+=1\n",
    "print(\"The number of nodes which are just followers and not followee (no predecessor but have sucessor) =\",count)"
   ]
  },
  {
   "cell_type": "code",
   "execution_count": 195,
   "metadata": {},
   "outputs": [
    {
     "name": "stderr",
     "output_type": "stream",
     "text": [
      "100%|████████████████████████████| 1862220/1862220 [00:11<00:00, 165169.37it/s]"
     ]
    },
    {
     "name": "stdout",
     "output_type": "stream",
     "text": [
      "The number of nodes who are just followee (like celebs) and not follower (have predecessor but no sucessor) = 274512\n"
     ]
    },
    {
     "name": "stderr",
     "output_type": "stream",
     "text": [
      "\n"
     ]
    }
   ],
   "source": [
    "#Count the nodes who are just followee (celebs) and dont follow any other node\n",
    "from tqdm import tqdm\n",
    "count = 0\n",
    "for i in tqdm(g.nodes):\n",
    "    if len(list(g.successors(i)))==0:\n",
    "            count+=1\n",
    "print(\"The number of nodes who are just followee (like celebs) and not follower (have predecessor but no sucessor) =\",count)"
   ]
  },
  {
   "cell_type": "code",
   "execution_count": 196,
   "metadata": {},
   "outputs": [
    {
     "name": "stderr",
     "output_type": "stream",
     "text": [
      "100%|████████████████████████████| 1862220/1862220 [00:12<00:00, 146690.78it/s]"
     ]
    },
    {
     "name": "stdout",
     "output_type": "stream",
     "text": [
      "The number of nodes which are normal people (have predecessor and have sucessor both) = 1399665\n",
      "These are the points which are not isolated in social graph i.e. they have both follower and followee\n"
     ]
    },
    {
     "name": "stderr",
     "output_type": "stream",
     "text": [
      "\n"
     ]
    }
   ],
   "source": [
    "#Count the no of nodes which have both followers and are also followee\n",
    "\n",
    "from tqdm import tqdm\n",
    "count = 0\n",
    "for i in tqdm(g.nodes):\n",
    "    if len(list(g.predecessors(i)))!=0:\n",
    "        if len(list(g.successors(i)))!=0:\n",
    "            count+=1\n",
    "print(\"The number of nodes which are normal people (have predecessor and have sucessor both) =\",count)\n",
    "print(\"These are the points which are not isolated in social graph i.e. they have both follower and followee\")"
   ]
  },
  {
   "cell_type": "code",
   "execution_count": 209,
   "metadata": {},
   "outputs": [
    {
     "name": "stdout",
     "output_type": "stream",
     "text": [
      "The basic statistics on degree is:\n"
     ]
    },
    {
     "data": {
      "text/plain": [
       "count    1.862220e+06\n",
       "mean     1.013577e+01\n",
       "std      1.829401e+01\n",
       "min      1.000000e+00\n",
       "25%      2.000000e+00\n",
       "50%      4.000000e+00\n",
       "75%      1.100000e+01\n",
       "max      1.579000e+03\n",
       "dtype: float64"
      ]
     },
     "execution_count": 209,
     "metadata": {},
     "output_type": "execute_result"
    }
   ],
   "source": [
    "# Degree - It represents the number of followers and followee\n",
    "\n",
    "np.set_printoptions(suppress=True)\n",
    "print(\"The basic statistics on degree is:\")\n",
    "pd.Series(list(dict(g.degree).values())).describe()"
   ]
  },
  {
   "cell_type": "code",
   "execution_count": 210,
   "metadata": {},
   "outputs": [],
   "source": [
    "degree = list(dict(g.degree).values())"
   ]
  },
  {
   "cell_type": "code",
   "execution_count": 212,
   "metadata": {},
   "outputs": [
    {
     "name": "stdout",
     "output_type": "stream",
     "text": [
      "The 0 th percentile for degree is 1.0\n",
      "The 10 th percentile for degree is 1.0\n",
      "The 20 th percentile for degree is 2.0\n",
      "The 30 th percentile for degree is 2.0\n",
      "The 40 th percentile for degree is 3.0\n",
      "The 50 th percentile for degree is 4.0\n",
      "The 60 th percentile for degree is 6.0\n",
      "The 70 th percentile for degree is 9.0\n",
      "The 80 th percentile for degree is 14.0\n",
      "The 90 th percentile for degree is 24.0\n",
      "The 100 th percentile for degree is 1579.0\n"
     ]
    }
   ],
   "source": [
    "for i in np.arange(0,101,10):\n",
    "    print(\"The\",i,\"th percentile for degree is\",np.percentile(degree,i))"
   ]
  },
  {
   "cell_type": "code",
   "execution_count": 213,
   "metadata": {},
   "outputs": [
    {
     "name": "stdout",
     "output_type": "stream",
     "text": [
      "The 90 th percentile for degree is 24.0\n",
      "The 91 th percentile for degree is 26.0\n",
      "The 92 th percentile for degree is 28.0\n",
      "The 93 th percentile for degree is 31.0\n",
      "The 94 th percentile for degree is 33.0\n",
      "The 95 th percentile for degree is 37.0\n",
      "The 96 th percentile for degree is 41.0\n",
      "The 97 th percentile for degree is 48.0\n",
      "The 98 th percentile for degree is 58.0\n",
      "The 99 th percentile for degree is 79.0\n",
      "The 100 th percentile for degree is 1579.0\n"
     ]
    }
   ],
   "source": [
    "for i in np.arange(90,101,1):\n",
    "    print(\"The\",i,\"th percentile for degree is\",np.percentile(degree,i))"
   ]
  },
  {
   "cell_type": "code",
   "execution_count": 215,
   "metadata": {},
   "outputs": [
    {
     "name": "stdout",
     "output_type": "stream",
     "text": [
      "The 99.0 th percentile for degree is 79.0\n",
      "The 99.1 th percentile for degree is 83.0\n",
      "The 99.2 th percentile for degree is 87.0\n",
      "The 99.3 th percentile for degree is 93.0\n",
      "The 99.4 th percentile for degree is 99.0\n",
      "The 99.5 th percentile for degree is 108.0\n",
      "The 99.6 th percentile for degree is 120.0\n",
      "The 99.7 th percentile for degree is 138.0\n",
      "The 99.8 th percentile for degree is 168.0\n",
      "The 99.9 th percentile for degree is 221.0\n",
      "The 100.0 th percentile for degree is 1578.999999500811\n"
     ]
    }
   ],
   "source": [
    "for i in np.arange(99,100.1,.1):\n",
    "    print(\"The\",np.round(i,2),\"th percentile for degree is\",np.percentile(degree,i))"
   ]
  },
  {
   "cell_type": "code",
   "execution_count": 217,
   "metadata": {},
   "outputs": [
    {
     "data": {
      "image/png": "[encoded data removed]",
      "text/plain": [
       "<Figure size 720x432 with 1 Axes>"
      ]
     },
     "metadata": {
      "needs_background": "light"
     },
     "output_type": "display_data"
    }
   ],
   "source": [
    "plt.figure(figsize=(10,6))\n",
    "sns.boxplot(y = degree)\n",
    "plt.xscale(\"linear\")\n",
    "plt.ticklabel_format(useOffset=False, style ='plain')\n",
    "plt.title(\"Boxplot for in degree\")\n",
    "#plt.xscale(\"log\")\n",
    "plt.show()"
   ]
  },
  {
   "cell_type": "code",
   "execution_count": 228,
   "metadata": {},
   "outputs": [
    {
     "name": "stdout",
     "output_type": "stream",
     "text": [
      "The max degree of a node is 1579\n",
      "\n",
      "\n",
      "The node with max degree is :\n",
      "The in-degree for node 1492489 is 13\n",
      "The out-degree for node 1492489 is 1566\n"
     ]
    }
   ],
   "source": [
    "#Which node which has max degree?\n",
    "degree_series = pd.Series(dict(g.degree))\n",
    "\n",
    "print(\"The max degree of a node is\",max(degree_series))\n",
    "print(\"\\n\")\n",
    "print(\"The node with max degree is :\")\n",
    "degree_series.loc[degree_series==max(degree_series)]\n",
    "\n",
    "in_degree_dict = dict(g.in_degree)\n",
    "out_degree_dict = dict(g.out_degree)\n",
    "print(\"The in-degree for node 1492489 is\", in_degree_dict[1492489])\n",
    "print(\"The out-degree for node 1492489 is\", out_degree_dict[1492489])"
   ]
  },
  {
   "cell_type": "code",
   "execution_count": 232,
   "metadata": {},
   "outputs": [
    {
     "name": "stdout",
     "output_type": "stream",
     "text": [
      "The top 10 degree counts are :\n"
     ]
    },
    {
     "data": {
      "text/plain": [
       "1     334291\n",
       "2     329273\n",
       "3     151273\n",
       "4     144683\n",
       "5      94279\n",
       "6      88499\n",
       "7      66413\n",
       "8      61704\n",
       "9      49911\n",
       "10     46111\n",
       "dtype: int64"
      ]
     },
     "execution_count": 232,
     "metadata": {},
     "output_type": "execute_result"
    }
   ],
   "source": [
    "print(\"The top 10 degree counts are :\")\n",
    "pd.Series(list(dict(g.degree).values())).value_counts()[0:10]"
   ]
  },
  {
   "cell_type": "code",
   "execution_count": 233,
   "metadata": {},
   "outputs": [
    {
     "name": "stderr",
     "output_type": "stream",
     "text": [
      "100%|█████████████████████████████| 1862220/1862220 [00:19<00:00, 94672.60it/s]"
     ]
    },
    {
     "name": "stdout",
     "output_type": "stream",
     "text": [
      "The number of nodes with follower + folowing less that or equal to 10 are 1366437\n"
     ]
    },
    {
     "name": "stderr",
     "output_type": "stream",
     "text": [
      "\n"
     ]
    }
   ],
   "source": [
    "# Count the no of nodes with follower + folowing <10\n",
    "\n",
    "count = 0\n",
    "for i in tqdm(g.nodes):\n",
    "    if len(list(g.predecessors(i)))+len(list(g.successors(i)))<=10:\n",
    "        count = count +1\n",
    "print(\"The number of nodes with follower + folowing less that or equal to 10 are\",count)"
   ]
  },
  {
   "cell_type": "markdown",
   "metadata": {},
   "source": [
    "# Posing as a Classification problem"
   ]
  },
  {
   "cell_type": "code",
   "execution_count": 242,
   "metadata": {},
   "outputs": [],
   "source": [
    "#Here in out graph data all the point are having an edge and these points will be classified as of class 1 as we have an edge \n",
    "#existing between them. For a classification problem we need to make have nodes which do not have any edge between them and then\n",
    "#between all these nodes we will have no edges and we will classify those points as of class 0\n",
    "\n",
    "#So in short we need to create artificial graph points where we dont have any edge between the nodes."
   ]
  },
  {
   "cell_type": "markdown",
   "metadata": {},
   "source": [
    "###  Generating some edges which are not present in graph for supervised learning\n",
    "\n",
    "Generated Bad links from graph which are not in graph and whose shortest path is greater than 2.\n",
    "\n"
   ]
  },
  {
   "cell_type": "markdown",
   "metadata": {},
   "source": [
    "#### Out of nodes in range 0 to 1862221 which of them are not present ??"
   ]
  },
  {
   "cell_type": "code",
   "execution_count": 27,
   "metadata": {},
   "outputs": [
    {
     "name": "stderr",
     "output_type": "stream",
     "text": [
      "100%|████████████████████████████| 1862222/1862222 [00:06<00:00, 302761.94it/s]"
     ]
    },
    {
     "name": "stdout",
     "output_type": "stream",
     "text": [
      "The nodes which are not in g are -  [0, 1862221]\n"
     ]
    },
    {
     "name": "stderr",
     "output_type": "stream",
     "text": [
      "\n"
     ]
    }
   ],
   "source": [
    "nodes_not_in_g = [i for i in tqdm(range(0, len(g.nodes)+2)) if i not in g.nodes]\n",
    "print(\"The nodes which are not in g are - \",nodes_not_in_g)"
   ]
  },
  {
   "cell_type": "code",
   "execution_count": 4,
   "metadata": {},
   "outputs": [
    {
     "name": "stderr",
     "output_type": "stream",
     "text": [
      "100%|█████████████████████████████████████████████████████████████████████████████████████████████████████████████████████████████████████████████████████████████████████████████████| 200000/200000 [08:50<00:00, 376.92it/s]"
     ]
    },
    {
     "name": "stdout",
     "output_type": "stream",
     "text": [
      "The length of no node list is 124167\n"
     ]
    },
    {
     "name": "stderr",
     "output_type": "stream",
     "text": [
      "\n"
     ]
    }
   ],
   "source": [
    "#Code to create new bad edges and bad nodes such that there in no direct edges exist between them and the path length > 2\n",
    "#Here i am taking 200000 data points because of computational cost.\n",
    "\n",
    "import networkx as nx\n",
    "bad_edges_list = []\n",
    "\n",
    "count = 0\n",
    "for i in tqdm(range(0,200000)):\n",
    "    rand_num1 = np.random.randint(1, 1862221)\n",
    "    rand_num2 = np.random.randint(1, 1862221)\n",
    "    try:\n",
    "        if (nx.shortest_path_length(g, rand_num1, rand_num2)>2):\n",
    "            bad_edges_list.append((rand_num1, rand_num2))\n",
    "    except nx.NetworkXNoPath:\n",
    "        pass\n",
    "    \n",
    "       \n",
    "            \n",
    "print(\"The length of no node list is\",len(bad_edges_list))"
   ]
  },
  {
   "cell_type": "raw",
   "metadata": {},
   "source": [
    "file_name = r'F:\\data\\Facebook friend recommendation\\mine\\no_edge_data.pkl'\n",
    "pickle_out = open(file_name, mode=\"wb\")\n",
    "pickle.dump(bad_edges_list, pickle_out)\n",
    "pickle_out.close()"
   ]
  },
  {
   "cell_type": "code",
   "execution_count": 7,
   "metadata": {},
   "outputs": [],
   "source": [
    "file_name = r'F:\\data\\Facebook friend recommendation\\mine\\no_edge_data.pkl'\n",
    "open_file = open(file_name, \"rb\")\n",
    "bad_edges_list = pickle.load(open_file) #This is a list containing tuples and each tuple has two nodes which are not \n",
    "                                        #connected in graph g.\n",
    "open_file.close()"
   ]
  },
  {
   "cell_type": "code",
   "execution_count": 8,
   "metadata": {},
   "outputs": [
    {
     "name": "stdout",
     "output_type": "stream",
     "text": [
      "The length of no node list is 124167\n"
     ]
    }
   ],
   "source": [
    "print(\"The length of no node list is\",len(bad_edges_list))"
   ]
  },
  {
   "cell_type": "markdown",
   "metadata": {},
   "source": [
    "### Creating a dataframe - df_neg(This dataframe contains the source node and target node which donot have any edge between them and is created from bad_edges_list)"
   ]
  },
  {
   "cell_type": "code",
   "execution_count": 10,
   "metadata": {},
   "outputs": [
    {
     "name": "stdout",
     "output_type": "stream",
     "text": [
      "The length of df_neg is 124167\n"
     ]
    }
   ],
   "source": [
    "df_neg = pd.DataFrame(np.array(bad_edges_list), columns=[\"source_node\",\"destination_node\"])\n",
    "df_neg[\"status\"] = 0\n",
    "\n",
    "\n",
    "print(\"The length of df_neg is\",len(df_neg))"
   ]
  },
  {
   "cell_type": "code",
   "execution_count": 11,
   "metadata": {},
   "outputs": [
    {
     "data": {
      "text/html": [
       "<div>\n",
       "<style scoped>\n",
       "    .dataframe tbody tr th:only-of-type {\n",
       "        vertical-align: middle;\n",
       "    }\n",
       "\n",
       "    .dataframe tbody tr th {\n",
       "        vertical-align: top;\n",
       "    }\n",
       "\n",
       "    .dataframe thead th {\n",
       "        text-align: right;\n",
       "    }\n",
       "</style>\n",
       "<table border=\"1\" class=\"dataframe\">\n",
       "  <thead>\n",
       "    <tr style=\"text-align: right;\">\n",
       "      <th></th>\n",
       "      <th>source_node</th>\n",
       "      <th>destination_node</th>\n",
       "      <th>status</th>\n",
       "    </tr>\n",
       "  </thead>\n",
       "  <tbody>\n",
       "    <tr>\n",
       "      <th>0</th>\n",
       "      <td>692599</td>\n",
       "      <td>1109326</td>\n",
       "      <td>0</td>\n",
       "    </tr>\n",
       "    <tr>\n",
       "      <th>1</th>\n",
       "      <td>619595</td>\n",
       "      <td>810513</td>\n",
       "      <td>0</td>\n",
       "    </tr>\n",
       "    <tr>\n",
       "      <th>2</th>\n",
       "      <td>1721053</td>\n",
       "      <td>1455821</td>\n",
       "      <td>0</td>\n",
       "    </tr>\n",
       "    <tr>\n",
       "      <th>3</th>\n",
       "      <td>1792164</td>\n",
       "      <td>384797</td>\n",
       "      <td>0</td>\n",
       "    </tr>\n",
       "    <tr>\n",
       "      <th>4</th>\n",
       "      <td>395791</td>\n",
       "      <td>626325</td>\n",
       "      <td>0</td>\n",
       "    </tr>\n",
       "  </tbody>\n",
       "</table>\n",
       "</div>"
      ],
      "text/plain": [
       "   source_node  destination_node  status\n",
       "0       692599           1109326       0\n",
       "1       619595            810513       0\n",
       "2      1721053           1455821       0\n",
       "3      1792164            384797       0\n",
       "4       395791            626325       0"
      ]
     },
     "execution_count": 11,
     "metadata": {},
     "output_type": "execute_result"
    }
   ],
   "source": [
    "df_neg.head()"
   ]
  },
  {
   "cell_type": "code",
   "execution_count": 13,
   "metadata": {},
   "outputs": [
    {
     "name": "stdout",
     "output_type": "stream",
     "text": [
      "The length of df_pos is 9437519\n"
     ]
    },
    {
     "data": {
      "text/html": [
       "<div>\n",
       "<style scoped>\n",
       "    .dataframe tbody tr th:only-of-type {\n",
       "        vertical-align: middle;\n",
       "    }\n",
       "\n",
       "    .dataframe tbody tr th {\n",
       "        vertical-align: top;\n",
       "    }\n",
       "\n",
       "    .dataframe thead th {\n",
       "        text-align: right;\n",
       "    }\n",
       "</style>\n",
       "<table border=\"1\" class=\"dataframe\">\n",
       "  <thead>\n",
       "    <tr style=\"text-align: right;\">\n",
       "      <th></th>\n",
       "      <th>source_node</th>\n",
       "      <th>destination_node</th>\n",
       "      <th>status</th>\n",
       "    </tr>\n",
       "  </thead>\n",
       "  <tbody>\n",
       "    <tr>\n",
       "      <th>0</th>\n",
       "      <td>1</td>\n",
       "      <td>690569</td>\n",
       "      <td>1</td>\n",
       "    </tr>\n",
       "    <tr>\n",
       "      <th>1</th>\n",
       "      <td>1</td>\n",
       "      <td>315892</td>\n",
       "      <td>1</td>\n",
       "    </tr>\n",
       "    <tr>\n",
       "      <th>2</th>\n",
       "      <td>1</td>\n",
       "      <td>189226</td>\n",
       "      <td>1</td>\n",
       "    </tr>\n",
       "    <tr>\n",
       "      <th>3</th>\n",
       "      <td>2</td>\n",
       "      <td>834328</td>\n",
       "      <td>1</td>\n",
       "    </tr>\n",
       "    <tr>\n",
       "      <th>4</th>\n",
       "      <td>2</td>\n",
       "      <td>1615927</td>\n",
       "      <td>1</td>\n",
       "    </tr>\n",
       "  </tbody>\n",
       "</table>\n",
       "</div>"
      ],
      "text/plain": [
       "   source_node  destination_node  status\n",
       "0            1            690569       1\n",
       "1            1            315892       1\n",
       "2            1            189226       1\n",
       "3            2            834328       1\n",
       "4            2           1615927       1"
      ]
     },
     "execution_count": 13,
     "metadata": {},
     "output_type": "execute_result"
    }
   ],
   "source": [
    "df_pos = pd.read_csv(r'F:\\data\\Facebook friend recommendation\\train\\train.csv')\n",
    "\n",
    "df_pos['status'] = 1\n",
    "print(\"The length of df_pos is\",len(df_pos))\n",
    "df_pos.head()"
   ]
  },
  {
   "cell_type": "markdown",
   "metadata": {},
   "source": [
    "# Train test split \n",
    "\n",
    "#Splitting data into 80-20  - positive links and negative links seperatly because we need positive training data only for \n",
    "creating graph and for feature generation"
   ]
  },
  {
   "cell_type": "code",
   "execution_count": 16,
   "metadata": {},
   "outputs": [
    {
     "name": "stdout",
     "output_type": "stream",
     "text": [
      "============================================================\n",
      "Number of nodes in the train data graph with edges 7550015\n",
      "Number of nodes in the train data graph without edges 99333\n",
      "============================================================\n",
      "Number of nodes in the test data graph with edges 1887504\n",
      "Number of nodes in the test data graph without edges 24834\n"
     ]
    }
   ],
   "source": [
    "from sklearn.model_selection import train_test_split\n",
    "\n",
    "x_train_pos, x_test_pos, y_train_pos, y_test_pos = train_test_split(df_pos.iloc[:,0:2], df_pos['status'], test_size = 0.2, random_state = 1)\n",
    "x_train_neg, x_test_neg, y_train_neg, y_test_neg = train_test_split(df_neg.iloc[:,0:2], df_neg['status'], test_size = 0.2, random_state = 1)\n",
    "\n",
    "print('='*60)\n",
    "print(\"Number of nodes in the train data graph with edges\", x_train_pos.shape[0])\n",
    "print(\"Number of nodes in the train data graph without edges\", x_train_neg.shape[0])\n",
    "print('='*60)\n",
    "print(\"Number of nodes in the test data graph with edges\", x_test_pos.shape[0])\n",
    "print(\"Number of nodes in the test data graph without edges\", x_test_neg.shape[0])\n"
   ]
  },
  {
   "cell_type": "code",
   "execution_count": 17,
   "metadata": {},
   "outputs": [],
   "source": [
    "#removing header and saving\n",
    "\n",
    "x_train_pos.to_csv(r'F:\\data\\Facebook friend recommendation\\mine\\train_test_csv\\train_pos_after_eda.csv',header=False, index=False)\n",
    "x_test_pos.to_csv(r'F:\\data\\Facebook friend recommendation\\mine\\train_test_csv\\test_pos_after_eda.csv',header=False, index=False)\n",
    "x_train_neg.to_csv(r'F:\\data\\Facebook friend recommendation\\mine\\train_test_csv\\train_neg_after_eda.csv',header=False, index=False)\n",
    "x_test_neg.to_csv(r'F:\\data\\Facebook friend recommendation\\mine\\train_test_csv\\test_neg_after_eda.csv',header=False, index=False)"
   ]
  },
  {
   "cell_type": "code",
   "execution_count": 2,
   "metadata": {},
   "outputs": [
    {
     "name": "stdout",
     "output_type": "stream",
     "text": [
      "Name: \n",
      "Type: DiGraph\n",
      "Number of nodes: 1780708\n",
      "Number of edges: 7550015\n",
      "Average in degree:   4.2399\n",
      "Average out degree:   4.2399\n",
      "Name: \n",
      "Type: DiGraph\n",
      "Number of nodes: 1145404\n",
      "Number of edges: 1887504\n",
      "Average in degree:   1.6479\n",
      "Average out degree:   1.6479\n"
     ]
    }
   ],
   "source": [
    "train_graph = nx.read_edgelist(r'F:\\data\\Facebook friend recommendation\\mine\\train_test_csv\\train_pos_after_eda.csv', \\\n",
    "            delimiter=',', create_using=nx.DiGraph(), nodetype = int)\n",
    "test_graph = nx.read_edgelist(r'F:\\data\\Facebook friend recommendation\\mine\\train_test_csv\\test_pos_after_eda.csv', \\\n",
    "            delimiter=',', create_using=nx.DiGraph(), nodetype = int)\n",
    "\n",
    "print(nx.info(train_graph))\n",
    "print(nx.info(test_graph))"
   ]
  },
  {
   "cell_type": "code",
   "execution_count": 4,
   "metadata": {},
   "outputs": [
    {
     "name": "stdout",
     "output_type": "stream",
     "text": [
      "Name: \n",
      "Type: DiGraph\n",
      "Number of nodes: 1780722\n",
      "Number of edges: 7550015\n",
      "Average in degree:   4.2399\n",
      "Average out degree:   4.2399\n",
      "Name: \n",
      "Type: DiGraph\n",
      "Number of nodes: 1144623\n",
      "Number of edges: 1887504\n",
      "Average in degree:   1.6490\n",
      "Average out degree:   1.6490\n"
     ]
    }
   ],
   "source": [
    "#Using the AAIC train_pos data and test_pos data because of the computational complexity. This is done for positive data points only.\n",
    "\n",
    "train_graph = nx.read_edgelist(r'F:\\data\\Facebook friend recommendation\\Facebook-20201030T080049Z-001\\Facebook\\data\\after_eda\\train_pos_after_eda.csv', \\\n",
    "            delimiter=',', create_using=nx.DiGraph(), nodetype = int)\n",
    "test_graph = nx.read_edgelist(r'F:\\data\\Facebook friend recommendation\\Facebook-20201030T080049Z-001\\Facebook\\data\\after_eda\\test_pos_after_eda.csv', \\\n",
    "            delimiter=',', create_using=nx.DiGraph(), nodetype = int)\n",
    "\n",
    "print(nx.info(train_graph))\n",
    "print(nx.info(test_graph))"
   ]
  },
  {
   "cell_type": "code",
   "execution_count": 3,
   "metadata": {},
   "outputs": [
    {
     "name": "stdout",
     "output_type": "stream",
     "text": [
      "The number of distinct nodes in train_graph_pos is 1780708\n",
      "The number of distinct nodes in test_graph_pos is 1145404\n"
     ]
    }
   ],
   "source": [
    "print(\"The number of distinct nodes in train_graph_pos is\",len(set(train_graph.nodes)))\n",
    "print(\"The number of distinct nodes in test_graph_pos is\",len(set(test_graph.nodes)))"
   ]
  },
  {
   "cell_type": "code",
   "execution_count": 4,
   "metadata": {},
   "outputs": [
    {
     "name": "stdout",
     "output_type": "stream",
     "text": [
      "In train - test data for Positive :\n",
      "The number of nodes that are intersection in train and test POS are 1063892\n",
      "The number of nodes that are union in train and test POS are 1862220\n"
     ]
    }
   ],
   "source": [
    "#No of nodes that are common between the train_graph_pos and test_graph_pos.\n",
    "\n",
    "train_pos_nodes = set(train_graph.nodes)\n",
    "test_pos_nodes = set(test_graph.nodes)\n",
    "\n",
    "print(\"In train - test data for Positive :\")\n",
    "print(\"The number of nodes that are intersection in train and test POS are\",len(train_pos_nodes.intersection(test_pos_nodes)))\n",
    "print(\"The number of nodes that are union in train and test POS are\",len(train_pos_nodes.union(test_pos_nodes)))"
   ]
  },
  {
   "cell_type": "code",
   "execution_count": 5,
   "metadata": {},
   "outputs": [
    {
     "name": "stdout",
     "output_type": "stream",
     "text": [
      "So we have have a problem of cold start as some of the data (nodes) from test is not present in training data\n",
      "The number of nodes not present in training data are 81512\n"
     ]
    }
   ],
   "source": [
    "print(\"So we have have a problem of cold start as some of the data (nodes) from test is not present in training data\")\n",
    "print(\"The number of nodes not present in training data are\",len(set(test_graph.nodes))-len(train_pos_nodes.intersection(test_pos_nodes)))"
   ]
  },
  {
   "cell_type": "markdown",
   "metadata": {},
   "source": [
    "# Featurization \n",
    "\n",
    "The most challenging task is how to do the featurization for the graph data. We will use a bunch of featurization techniques for featurization of graph data.\n",
    "\n",
    "Refer https://medium.com/@cynosuremishra01/different-featurization-techniques-for-graph-related-problems-in-machine-learning-9c9d60caae60 \n",
    "\n",
    "1. Jaccard Distance\n",
    "2. Cosine Similarities\n",
    "3. Page Rank\n",
    "4. Shortest Path\n",
    "5. Connected Components\n",
    "6. Adar Index\n",
    "7. Kartz Centrality\n",
    "8. HITS Score\n",
    "9. Preferential Attachment\n"
   ]
  },
  {
   "cell_type": "markdown",
   "metadata": {},
   "source": [
    "## 1.0 Similarity measure"
   ]
  },
  {
   "cell_type": "markdown",
   "metadata": {},
   "source": [
    "### 1.1 Jaccard Distance (Similarity)\n",
    "\n",
    "The Jaccard similarity index (sometimes called the Jaccard similarity coefficient) compares members for two sets to see which members are shared and which are distinct. It’s a measure of similarity for the two sets of data, with a range from 0% to 100%. The higher the percentage, the more similar the two populations. \n",
    "\n",
    "The higher the ratio of Jaccard distance there is more probabiltiy of the link between X and Y.\n",
    "\n",
    "\\begin{equation}\n",
    "j = \\frac{|X\\cap Y|}{|X \\cup Y|} \n",
    "\\end{equation}"
   ]
  },
  {
   "cell_type": "code",
   "execution_count": 3,
   "metadata": {},
   "outputs": [],
   "source": [
    "#The logic behind this featurization is that if the followers of both node1 and node2 is same then its highly likely that \n",
    "#the simiarity between node1 and node2 is high and node1 and node2 should be following each other\n",
    "\n",
    "def jaccard_for_predecessor(node1, node2):\n",
    "    try:\n",
    "        if ((len(set(train_graph.predecessors(node1)))==0) | (len(set(train_graph.predecessors(node2)))==0)):\n",
    "            jaccard_sim_for_pred = 0\n",
    "        else:\n",
    "            jaccard_sim_for_pred = len(set(train_graph.predecessors(node1)).intersection(set(train_graph.predecessors(node2))))/ \\\n",
    "                        len(set(train_graph.predecessors(node1)).union(set(train_graph.predecessors(node2))))\n",
    "    except:\n",
    "        jaccard_sim_for_pred = 0\n",
    "\n",
    "    return jaccard_sim_for_pred"
   ]
  },
  {
   "cell_type": "code",
   "execution_count": 10,
   "metadata": {},
   "outputs": [
    {
     "name": "stdout",
     "output_type": "stream",
     "text": [
      "0.0\n"
     ]
    }
   ],
   "source": [
    "#one test case\n",
    "print(jaccard_for_predecessor(273084,1505602))"
   ]
  },
  {
   "cell_type": "code",
   "execution_count": 11,
   "metadata": {},
   "outputs": [
    {
     "name": "stdout",
     "output_type": "stream",
     "text": [
      "0\n"
     ]
    }
   ],
   "source": [
    "#node 1635354 not in graph \n",
    "print(jaccard_for_predecessor(273084,1635354))"
   ]
  },
  {
   "cell_type": "code",
   "execution_count": 4,
   "metadata": {},
   "outputs": [],
   "source": [
    "def jaccard_for_successor(node1, node2):\n",
    "    \n",
    "    try:\n",
    "        if ((len(set(train_graph.successors(node1)))==0) | (len(set(train_graph.successors(node2)))==0)):\n",
    "            jaccard_sim_for_suc = 0\n",
    "        else:\n",
    "            jaccard_sim_for_suc = len(set(train_graph.successors(node1)).intersection(set(train_graph.successors(node2))))/ \\\n",
    "                        len(set(train_graph.successors(node1)).union(set(train_graph.successors(node2))))\n",
    "    except:\n",
    "        jaccard_sim_for_suc = 0\n",
    "    \n",
    "    return jaccard_sim_for_suc"
   ]
  },
  {
   "cell_type": "code",
   "execution_count": 13,
   "metadata": {},
   "outputs": [
    {
     "name": "stdout",
     "output_type": "stream",
     "text": [
      "0.0\n"
     ]
    }
   ],
   "source": [
    "#one test case\n",
    "print(jaccard_for_successor(273084,1505602))"
   ]
  },
  {
   "cell_type": "code",
   "execution_count": 14,
   "metadata": {},
   "outputs": [
    {
     "name": "stdout",
     "output_type": "stream",
     "text": [
      "0\n"
     ]
    }
   ],
   "source": [
    "#node 1635354 not in graph \n",
    "print(jaccard_for_successor(273084,1635354))"
   ]
  },
  {
   "cell_type": "code",
   "execution_count": 5,
   "metadata": {},
   "outputs": [],
   "source": [
    "def jaccard_for_pred_succ(node1, node2):\n",
    "    \n",
    "    try:\n",
    "        if ((len(set(train_graph.successors(node1)))==0) | (len(set(train_graph.predecessors(node2)))==0)):\n",
    "            jaccard_sim_for_pred_succ = 0\n",
    "        else:\n",
    "            jaccard_sim_for_pred_succ = len(set(train_graph.successors(node1)).intersection(set(train_graph.predecessors(node2))))/ \\\n",
    "                        len(set(train_graph.successors(node1)).union(set(train_graph.predecessors(node2))))\n",
    "    except:\n",
    "        jaccard_sim_for_pred_succ = 0\n",
    "        \n",
    "    return jaccard_sim_for_pred_succ"
   ]
  },
  {
   "cell_type": "code",
   "execution_count": 16,
   "metadata": {},
   "outputs": [
    {
     "name": "stdout",
     "output_type": "stream",
     "text": [
      "0.0\n"
     ]
    }
   ],
   "source": [
    "#one test case\n",
    "print(jaccard_for_pred_succ(273084,1505602))"
   ]
  },
  {
   "cell_type": "code",
   "execution_count": 17,
   "metadata": {},
   "outputs": [
    {
     "name": "stdout",
     "output_type": "stream",
     "text": [
      "0\n"
     ]
    }
   ],
   "source": [
    "#node 1635354 not in graph \n",
    "print(jaccard_for_successor(273084,1635354))"
   ]
  },
  {
   "cell_type": "markdown",
   "metadata": {},
   "source": [
    "## 1.2 Cosine distance (similarity)\n",
    "\n",
    "\\begin{equation}\n",
    "CosineDistance = \\frac{|X\\cap Y|}{|X|\\cdot|Y|} \n",
    "\\end{equation}"
   ]
  },
  {
   "cell_type": "code",
   "execution_count": 6,
   "metadata": {},
   "outputs": [],
   "source": [
    "def cosine_for_predecessor(node1, node2):\n",
    "    \n",
    "    try:\n",
    "        if ((len(set(train_graph.predecessors(node1)))==0) | (len(set(train_graph.predecessors(node2)))==0)):\n",
    "            cosine_sim_for_pred = 0\n",
    "        else:\n",
    "            cosine_sim_for_pred = len(set(train_graph.predecessors(node1)).intersection(set(train_graph.predecessors(node2))))/ \\\n",
    "                        (len(set(train_graph.predecessors(node1)))*len(set(train_graph.predecessors(node2))))\n",
    "    except:\n",
    "        cosine_sim_for_pred = 0\n",
    "        \n",
    "    return cosine_sim_for_pred"
   ]
  },
  {
   "cell_type": "code",
   "execution_count": 19,
   "metadata": {},
   "outputs": [
    {
     "name": "stdout",
     "output_type": "stream",
     "text": [
      "0.0\n"
     ]
    }
   ],
   "source": [
    "#one test case\n",
    "print(cosine_for_predecessor(273084,1505602))"
   ]
  },
  {
   "cell_type": "code",
   "execution_count": 20,
   "metadata": {},
   "outputs": [
    {
     "name": "stdout",
     "output_type": "stream",
     "text": [
      "0\n"
     ]
    }
   ],
   "source": [
    "#node 1635354 not in graph \n",
    "print(cosine_for_predecessor(273084,1635354))"
   ]
  },
  {
   "cell_type": "code",
   "execution_count": 7,
   "metadata": {},
   "outputs": [],
   "source": [
    "def cosine_for_successor(node1, node2):\n",
    "    \n",
    "    try:\n",
    "        if ((len(set(train_graph.successors(node1)))==0) | (len(set(train_graph.successors(node2)))==0)):\n",
    "            cosine_sim_for_suc = 0\n",
    "        else:\n",
    "            cosine_sim_for_suc = len(set(train_graph.successors(node1)).intersection(set(train_graph.successors(node2))))/ \\\n",
    "                        (len(set(train_graph.successors(node1)))*len(set(train_graph.successors(node2))))\n",
    "    except:\n",
    "        cosine_sim_for_suc = 0\n",
    "    \n",
    "    return cosine_sim_for_suc"
   ]
  },
  {
   "cell_type": "code",
   "execution_count": 22,
   "metadata": {},
   "outputs": [
    {
     "name": "stdout",
     "output_type": "stream",
     "text": [
      "0\n"
     ]
    }
   ],
   "source": [
    "#node 1635354 not in graph \n",
    "print(cosine_for_successor(273084,1635354))"
   ]
  },
  {
   "cell_type": "code",
   "execution_count": 8,
   "metadata": {},
   "outputs": [],
   "source": [
    "def cosine_for_pred_suc(node1, node2):\n",
    "    \n",
    "    try:\n",
    "        if ((len(set(train_graph.successors(node1)))==0) | (len(set(train_graph.predecessors(node2)))==0)):\n",
    "            cosine_sim_for_pred_suc = 0\n",
    "        else:\n",
    "            cosine_sim_for_pred_suc = len(set(train_graph.successors(node1)).intersection(set(train_graph.predecessors(node2))))/ \\\n",
    "                        (len(set(train_graph.successors(node1)))*len(set(train_graph.predecessors(node2))))\n",
    "    except:\n",
    "        cosine_sim_for_pred_suc = 0\n",
    "        \n",
    "    return cosine_sim_for_pred_suc"
   ]
  },
  {
   "cell_type": "code",
   "execution_count": 24,
   "metadata": {},
   "outputs": [
    {
     "name": "stdout",
     "output_type": "stream",
     "text": [
      "0\n"
     ]
    }
   ],
   "source": [
    "#node 1635354 not in graph \n",
    "print(cosine_for_successor(273084,1635354))"
   ]
  },
  {
   "cell_type": "markdown",
   "metadata": {},
   "source": [
    "## 1.3 PageRank\n",
    "\n",
    "PageRank was an algo developed by Google to rank which page should come first when a search happens in google. It uses graph structure and decide the rank of a page (say A) based on all the websites attached to website A.\n",
    "\n",
    "It is an iterative algo and it computes the pagerank of all the nodes in the graph structure. It returns me a dictionary with node as key and values as the rank of all the node. Intresting thing to note is that the sum of all the pagerank of all nodes equals to 1.\n",
    "\n",
    "The Pagerank of a website(A) is more if more no of nodes(websites) are pointing to website A. It means that we can reach to website (A) in many nubmer of ways from other websites.The higher the pagerank of a website the more important that website will be. Also if an important website(A) is linked to another website(B) then B will also have high page rank value.\n",
    "\n",
    "#Useful links for pagrank:\n",
    "#https://networkx.org/documentation/stable/reference/algorithms/generated/networkx.algorithms.link_analysis.pagerank_alg.pagerank.html\n",
    "#https://www.youtube.com/watch?v=P8Kt6Abq_rM"
   ]
  },
  {
   "cell_type": "raw",
   "metadata": {},
   "source": [
    "#Code to find pagerank of all the nodes :-\n",
    "\n",
    "pagerank_dict = nx.pagerank(train_graph)\n",
    "\n",
    "#It returns me a dictionary with node as key and values as the rank of all the node. Intresting thing to note is that the sum of all the pagerank of all nodes equals to 1."
   ]
  },
  {
   "cell_type": "code",
   "execution_count": 9,
   "metadata": {},
   "outputs": [],
   "source": [
    "#Here we are importing the pagerank dictionary created by AAIC because of computaional complexity of running above code.\n",
    "#https://stackoverflow.com/questions/42193963/file-extension-naming-p-vs-pkl-vs-pickle  -- .p is same as.pkl\n",
    "\n",
    "import pickle\n",
    "file_name = r'F:\\data\\Facebook friend recommendation\\Facebook-20201030T080049Z-001\\Facebook\\data\\fea_sample\\page_rank.p'\n",
    "open_file = open(file_name, \"rb\")\n",
    "pagerank_dict = pickle.load(open_file)\n",
    "open_file.close()"
   ]
  },
  {
   "cell_type": "code",
   "execution_count": 10,
   "metadata": {},
   "outputs": [
    {
     "name": "stdout",
     "output_type": "stream",
     "text": [
      "The length of pagerank dict is 1780722\n"
     ]
    }
   ],
   "source": [
    "print(\"The length of pagerank dict is\",len(pagerank_dict))"
   ]
  },
  {
   "cell_type": "code",
   "execution_count": 11,
   "metadata": {},
   "outputs": [
    {
     "name": "stdout",
     "output_type": "stream",
     "text": [
      "The first 5 items of pagerank dict are :\n"
     ]
    },
    {
     "data": {
      "text/plain": [
       "[(273084, 2.0452904537613205e-06),\n",
       " (1505602, 3.459962832379924e-07),\n",
       " (912810, 1.039181158882892e-06),\n",
       " (1678443, 1.7938059019480253e-06),\n",
       " (365429, 1.033021623853361e-06)]"
      ]
     },
     "execution_count": 11,
     "metadata": {},
     "output_type": "execute_result"
    }
   ],
   "source": [
    "print(\"The first 5 items of pagerank dict are :\")\n",
    "list(pagerank_dict.items())[0:5]"
   ]
  },
  {
   "cell_type": "code",
   "execution_count": 12,
   "metadata": {},
   "outputs": [
    {
     "name": "stdout",
     "output_type": "stream",
     "text": [
      "The min value of pagerank is 1.6556497245737814e-07\n",
      "The max value of pagerank is 2.7098251341935827e-05\n",
      "The avg value of pagerank is 5.615699699336493e-07\n"
     ]
    }
   ],
   "source": [
    "print(\"The min value of pagerank is\",min(pagerank_dict.values()))\n",
    "print(\"The max value of pagerank is\",max(pagerank_dict.values()))\n",
    "print(\"The avg value of pagerank is\",np.mean(list(pagerank_dict.values())))"
   ]
  },
  {
   "cell_type": "code",
   "execution_count": 10,
   "metadata": {},
   "outputs": [
    {
     "name": "stdout",
     "output_type": "stream",
     "text": [
      "The median value of pagerank is 3.9069177553685355e-07\n"
     ]
    }
   ],
   "source": [
    "# Ques - what should be the page rank for the nodes which are not present in pagerank_dict?\n",
    "#We will put the median value of the pagerank for the nodes not there in the dictionary.\n",
    "\n",
    "median_pagerank = np.median(list(pagerank_dict.values()))\n",
    "print(\"The median value of pagerank is\",median_pagerank)"
   ]
  },
  {
   "cell_type": "code",
   "execution_count": 11,
   "metadata": {},
   "outputs": [],
   "source": [
    "#Function to calculate the pagerank of a node given an input node\n",
    "\n",
    "import pickle\n",
    "file_name = r'F:\\data\\Facebook friend recommendation\\Facebook-20201030T080049Z-001\\Facebook\\data\\fea_sample\\page_rank.p'\n",
    "open_file = open(file_name, \"rb\")\n",
    "pagerank_dict = pickle.load(open_file)\n",
    "open_file.close()\n",
    "\n",
    "median_pagerank = np.median(list(pagerank_dict.values()))\n",
    "\n",
    "def pagerank_node(node):\n",
    "    \n",
    "    pagerank = pagerank_dict.get(node, median_pagerank)\n",
    "   \n",
    "    return pagerank"
   ]
  },
  {
   "cell_type": "code",
   "execution_count": 41,
   "metadata": {},
   "outputs": [
    {
     "data": {
      "text/plain": [
       "1.039181158882892e-06"
      ]
     },
     "execution_count": 41,
     "metadata": {},
     "output_type": "execute_result"
    }
   ],
   "source": [
    "#Testing Pagerank function\n",
    "pagerank_node(912810)"
   ]
  },
  {
   "cell_type": "markdown",
   "metadata": {},
   "source": [
    "## 1.4 Shortest Path\n",
    "\n",
    "The shortest path for the train_data_pos will be 1 because those points are directly connected. But what we will do is we will remove those edges(of length 1) and then try to find the next shortest path length. This will give me a much better picture for the datapoints. "
   ]
  },
  {
   "cell_type": "code",
   "execution_count": 12,
   "metadata": {},
   "outputs": [],
   "source": [
    "def shortest_path_length(node1, node2):\n",
    "    try:\n",
    "        if train_graph.has_edge(node1, node2):\n",
    "            train_graph.remove_edge(node1, node2) #this removes the edge from the graph permanently.\n",
    "            p = nx.shortest_path_length(train_graph, node1, node2)\n",
    "        else:\n",
    "            p = nx.shortest_path_length(train_graph, node1, node2)\n",
    "            \n",
    "    except:\n",
    "        p = -1  #if the nodes from test data is not there in train data then above code will give me error. \n",
    "               #So we will put \"-1\" if no node exist \n",
    "    \n",
    "    return p"
   ]
  },
  {
   "cell_type": "code",
   "execution_count": 19,
   "metadata": {},
   "outputs": [
    {
     "data": {
      "text/plain": [
       "10"
      ]
     },
     "execution_count": 19,
     "metadata": {},
     "output_type": "execute_result"
    }
   ],
   "source": [
    "#testing\n",
    "shortest_path_length(77697, 826021)"
   ]
  },
  {
   "cell_type": "code",
   "execution_count": 33,
   "metadata": {},
   "outputs": [
    {
     "data": {
      "text/plain": [
       "-1"
      ]
     },
     "execution_count": 33,
     "metadata": {},
     "output_type": "execute_result"
    }
   ],
   "source": [
    "#testing\n",
    "shortest_path_length(669354,1635354)"
   ]
  },
  {
   "cell_type": "markdown",
   "metadata": {},
   "source": [
    "## 1.5  Weakly / Strongly connected components (Community)\n",
    "\n",
    "Strongly connected component is a directed sub graph where nodes are connected such a way that, every node is reachable from other nodes of that subgraph. \n",
    "On the other hand weakly connected component is directed sub graph which is unreachable from other nodes of graph or sub graph. But if ignore the direction we can go from any node to other node. \n",
    "So weakly connected component is one in which all nodes are connected by some path if we ignore the directions. \n",
    "\n",
    "Note: If one edge is present between the two weakly connected community then both of them will be combined to one community\n",
    "\n",
    "Logic of using this feature: - \n",
    "\n",
    "Here we are trying to find the community of weakly connected component. So for ex we can have a weakly connected community of college friends and another weakly connected community of office friends. \n",
    "So a waekly connected components in graph theory can be thought of community of people who shares something similar amongst themselves.\n",
    "In this feature we are checking if the two nodes(Ui, Uj) belong to same weakly connected component community. If yes then its highly likely that they share common intrests and they might be friends. This feature will be a binary feature (0=False / 1=True)"
   ]
  },
  {
   "cell_type": "code",
   "execution_count": 13,
   "metadata": {},
   "outputs": [],
   "source": [
    "communities = list(nx.weakly_connected_components(train_graph)) #It returns a list of sets and in each set we have nodes which \n",
    "                                                                #form a weakly connected community"
   ]
  },
  {
   "cell_type": "code",
   "execution_count": 14,
   "metadata": {},
   "outputs": [],
   "source": [
    "def belongs_to_same_weakly_community(node1, node2):\n",
    "    if (node1 in train_graph.nodes) and (node2 in train_graph.nodes):\n",
    "            for community in communities:\n",
    "                if ((node1 in community) and (node2 in community)):\n",
    "                    return 1\n",
    "                else:\n",
    "                    return 0\n",
    "    else:\n",
    "        return -1 #returns -1 if either of the node1 or node2 is not there in graph nodes(among all nodes)."
   ]
  },
  {
   "cell_type": "code",
   "execution_count": 15,
   "metadata": {},
   "outputs": [
    {
     "name": "stdout",
     "output_type": "stream",
     "text": [
      "The number of weakly connected communities are 48828\n",
      "The number of nodes in weakly connected community 1 is 1649472\n",
      "The number of nodes in weakly connected community 2 is 3\n",
      "The number of nodes in weakly connected community 3 is 21\n",
      "The number of nodes in weakly connected community 4 is 2\n",
      "The number of nodes in weakly connected community 5 is 4\n",
      "The number of nodes in weakly connected community 6 is 2\n",
      "\n",
      "\n",
      "The max no of nodes in a community is 1649472\n",
      "The percentage of nodes lying in a single community is 92.63012240075295\n"
     ]
    }
   ],
   "source": [
    "print(\"The number of weakly connected communities are\",len(communities))\n",
    "print(\"The number of nodes in weakly connected community 1 is\",len(communities[0]))\n",
    "print(\"The number of nodes in weakly connected community 2 is\",len(communities[1]))\n",
    "print(\"The number of nodes in weakly connected community 3 is\",len(communities[2]))\n",
    "print(\"The number of nodes in weakly connected community 4 is\",len(communities[3]))\n",
    "print(\"The number of nodes in weakly connected community 5 is\",len(communities[4]))\n",
    "print(\"The number of nodes in weakly connected community 6 is\",len(communities[5]))\n",
    "print(\"\\n\")\n",
    "print(\"The max no of nodes in a community is\",max([len(i) for i in communities]))\n",
    "print(\"The percentage of nodes lying in a single community is\",(max([len(i) for i in communities])/len(train_graph.nodes))*100)"
   ]
  },
  {
   "cell_type": "code",
   "execution_count": 16,
   "metadata": {},
   "outputs": [],
   "source": [
    "strong_communities = list(nx.strongly_connected_components(train_graph)) #It returns a list of sets and in each set we have nodes which form a strongly connected community\n",
    "\n",
    "def belongs_to_same_strongly_community(node1, node2):\n",
    "    if (node1 in train_graph.nodes) and (node2 in train_graph.nodes):\n",
    "            for community in strong_communities:\n",
    "                if ((node1 in community) and (node2 in community)):\n",
    "                    return 1\n",
    "                else:\n",
    "                    return 0\n",
    "    else:\n",
    "        return -1 #returns -1 if either of the node1 or node2 is not there in graph nodes(among all nodes)."
   ]
  },
  {
   "cell_type": "code",
   "execution_count": 17,
   "metadata": {},
   "outputs": [
    {
     "name": "stdout",
     "output_type": "stream",
     "text": [
      "The number of strongly connected communities are 611052\n",
      "The number of nodes in strongly connected community 1 is 1\n",
      "The number of nodes in strongly connected community 2 is 1\n",
      "The number of nodes in strongly connected community 3 is 1\n",
      "The number of nodes in strongly connected community 4 is 1\n",
      "The number of nodes in strongly connected community 5 is 1\n",
      "The number of nodes in strongly connected community 6 is 1\n",
      "\n",
      "\n",
      "The max no of nodes in a community is 1083453\n",
      "The percentage of nodes lying in a single community is 60.84394521729559\n"
     ]
    }
   ],
   "source": [
    "print(\"The number of strongly connected communities are\",len(strong_communities))\n",
    "print(\"The number of nodes in strongly connected community 1 is\",len(strong_communities[0]))\n",
    "print(\"The number of nodes in strongly connected community 2 is\",len(strong_communities[1]))\n",
    "print(\"The number of nodes in strongly connected community 3 is\",len(strong_communities[2]))\n",
    "print(\"The number of nodes in strongly connected community 4 is\",len(strong_communities[3]))\n",
    "print(\"The number of nodes in strongly connected community 5 is\",len(strong_communities[4]))\n",
    "print(\"The number of nodes in strongly connected community 6 is\",len(strong_communities[5]))\n",
    "print(\"\\n\")\n",
    "print(\"The max no of nodes in a community is\",max([len(i) for i in strong_communities]))\n",
    "print(\"The percentage of nodes lying in a single community is\",(max([len(i) for i in strong_communities])/len(train_graph.nodes))*100)"
   ]
  },
  {
   "cell_type": "markdown",
   "metadata": {},
   "source": [
    "## 1.6 Adamic - Adar Index\n",
    "\n",
    "Adamic Adar is a measure used to compute the closeness of nodes based on their shared neighbors. The neighours of a node A are basically all the nodes (incoming or outgoing) which are connected to the node A. \n",
    "\n",
    "So in Adar Index we calculate the chances if there is a link between the node A and node B. It is based on concept that common nodes between two node A and B with very large neighbourhoods of the common node are less significant when predicting a connection between two nodes A and B.\n",
    "On the other hand if the common connected nodes have a small neighbourhood then its highly likely that the two nodes A and B can we friends.\n",
    "\n",
    "$$A(x,y)=\\sum_{u \\in N(x) \\cap N(y)}\\frac{1}{log(|N(u)|)}$$\n",
    "\n",
    "Higher the Adar index between the two nodes the more chances that the two nodes are friends or folowing each other.\n",
    "\n",
    "Note - Adar index is defined only for undirected graph so we need to tweak it as per our data"
   ]
  },
  {
   "cell_type": "code",
   "execution_count": 41,
   "metadata": {},
   "outputs": [],
   "source": [
    "def adamic_adar_index(node1, node2):\n",
    "    \n",
    "    try:\n",
    "        node1_neighbours = set(train_graph.predecessors(node1)).union(set(train_graph.successors(node1)))\n",
    "        node2_neighbours = set(train_graph.predecessors(node2)).union(set(train_graph.successors(node2)))\n",
    "    \n",
    "        common_nodes = list(node1_neighbours.intersection(node2_neighbours))\n",
    "        if len(common_nodes)!=0:\n",
    "            sum = 0\n",
    "            for i in common_nodes:\n",
    "                sum = sum + 1/np.log(len(list(train_graph.successors(i))) + len(list(train_graph.predecessors(i))))\n",
    "            adar_index = sum\n",
    "        \n",
    "        else:\n",
    "            adar_index = 0\n",
    "    \n",
    "    except:\n",
    "        adar_index = 0\n",
    "    \n",
    "    return adar_index   #Higher the adar index better is the chances to have relationship between A and B."
   ]
  },
  {
   "cell_type": "code",
   "execution_count": 20,
   "metadata": {},
   "outputs": [
    {
     "data": {
      "text/plain": [
       "0.2769378934088574"
      ]
     },
     "execution_count": 20,
     "metadata": {},
     "output_type": "execute_result"
    }
   ],
   "source": [
    "adamic_adar_index(1,189226)"
   ]
  },
  {
   "cell_type": "code",
   "execution_count": 41,
   "metadata": {},
   "outputs": [
    {
     "data": {
      "text/plain": [
       "0"
      ]
     },
     "execution_count": 41,
     "metadata": {},
     "output_type": "execute_result"
    }
   ],
   "source": [
    "adamic_adar_index(669354,1635354)"
   ]
  },
  {
   "cell_type": "markdown",
   "metadata": {},
   "source": [
    "## 1.7 Is Person following back\n",
    "\n",
    "Here we are checking that given two nodes(A, B), can A be following B? So we can come up with a feature if B is following A or not. If B is following A then there is high chances that A will follow B too."
   ]
  },
  {
   "cell_type": "code",
   "execution_count": 14,
   "metadata": {},
   "outputs": [],
   "source": [
    "def is_following_back(node1, node2):\n",
    "    if ((node1 in list(train_graph.nodes)) and (node2 in list(train_graph.nodes))):\n",
    "        if train_graph.has_edge(node2, node1):\n",
    "            return 1\n",
    "        else:\n",
    "            return 0\n",
    "    else:\n",
    "        return -1"
   ]
  },
  {
   "cell_type": "code",
   "execution_count": 43,
   "metadata": {},
   "outputs": [
    {
     "data": {
      "text/plain": [
       "1"
      ]
     },
     "execution_count": 43,
     "metadata": {},
     "output_type": "execute_result"
    }
   ],
   "source": [
    "is_following_back(1,189226)"
   ]
  },
  {
   "cell_type": "code",
   "execution_count": 44,
   "metadata": {},
   "outputs": [
    {
     "data": {
      "text/plain": [
       "-1"
      ]
     },
     "execution_count": 44,
     "metadata": {},
     "output_type": "execute_result"
    }
   ],
   "source": [
    "is_following_back(1,1892261234)"
   ]
  },
  {
   "cell_type": "code",
   "execution_count": 45,
   "metadata": {},
   "outputs": [
    {
     "data": {
      "text/plain": [
       "-1"
      ]
     },
     "execution_count": 45,
     "metadata": {},
     "output_type": "execute_result"
    }
   ],
   "source": [
    "is_following_back(669354,1635354)"
   ]
  },
  {
   "cell_type": "markdown",
   "metadata": {},
   "source": [
    "## 1.8 Katz Centrality\n",
    "\n",
    "It is very similar to Pagerank algorithm where it tells me which website is more important by assigning higher pagerank value to more important nodes.\n",
    "\n",
    "Similarly the Katz centrality of a node is a measure of centrality in a network. For each node it looks as them a central node and find the influence of all the neighbour node connected to central node and all the nodes connected to neighbour node. So it looks at the influence of all the connected nodes and adjacent to connected nodes to the central node. \n",
    "\n",
    "Note - Katz centrality computes the relative influence of a node within a network by measuring the number of the immediate neighbors (first degree nodes) and also all other nodes in the network that connect to the node under consideration through these immediate neighbors."
   ]
  },
  {
   "cell_type": "raw",
   "metadata": {},
   "source": [
    "#Code to find katz_centrality of all the nodes :-\n",
    "\n",
    "katz_centrality_dict = nx.katz_centrality(train_graph)\n",
    "\n",
    "#It returns me a dictionary with node as key and values as the katz centrality of all the node.\n",
    "#It returns me a dictionary"
   ]
  },
  {
   "cell_type": "code",
   "execution_count": 19,
   "metadata": {},
   "outputs": [],
   "source": [
    "#Here we are importing the katz centrality dictionary created by AAIC because of computaional complexity of running above code.\n",
    "#https://stackoverflow.com/questions/42193963/file-extension-naming-p-vs-pkl-vs-pickle  -- .p is same as.pkl\n",
    "\n",
    "import pickle\n",
    "file_name = r'F:\\data\\Facebook friend recommendation\\Facebook-20201030T080049Z-001\\Facebook\\data\\fea_sample\\katz.p'\n",
    "open_file = open(file_name, \"rb\")\n",
    "katz_centrality_dict = pickle.load(open_file)\n",
    "open_file.close()"
   ]
  },
  {
   "cell_type": "code",
   "execution_count": 20,
   "metadata": {},
   "outputs": [
    {
     "name": "stdout",
     "output_type": "stream",
     "text": [
      "The first 5 items of katz_centrality_dict are :\n"
     ]
    },
    {
     "data": {
      "text/plain": [
       "[(273084, 0.0007729488250589932),\n",
       " (1505602, 0.0007555174573470715),\n",
       " (912810, 0.0007705382111121319),\n",
       " (1678443, 0.0007611069974457382),\n",
       " (365429, 0.0009111502234612306)]"
      ]
     },
     "execution_count": 20,
     "metadata": {},
     "output_type": "execute_result"
    }
   ],
   "source": [
    "print(\"The first 5 items of katz_centrality_dict are :\")\n",
    "list(katz_centrality_dict.items())[0:5]"
   ]
  },
  {
   "cell_type": "code",
   "execution_count": 29,
   "metadata": {},
   "outputs": [
    {
     "name": "stdout",
     "output_type": "stream",
     "text": [
      "The min value of katz_centrality is 0.0007313532484065916\n",
      "The max value of katz_centrality is 0.003394554981699122\n",
      "The avg value of katz_centrality is 0.0007483800935468491\n"
     ]
    }
   ],
   "source": [
    "print(\"The min value of katz_centrality is\",min(katz_centrality_dict.values()))\n",
    "print(\"The max value of katz_centrality is\",max(katz_centrality_dict.values()))\n",
    "print(\"The avg value of katz_centrality is\",np.mean(list(katz_centrality_dict.values())))"
   ]
  },
  {
   "cell_type": "code",
   "execution_count": 30,
   "metadata": {},
   "outputs": [
    {
     "name": "stdout",
     "output_type": "stream",
     "text": [
      "0.0007388558088692591\n"
     ]
    }
   ],
   "source": [
    "# Ques - what should be the katz centrality for the nodes which are not present in katz_centrality_dict?\n",
    "#We will put the median value of the katz_centrality for the nodes not there in the dictionary.\n",
    "\n",
    "median_katz_centrality = np.median(list(katz_centrality_dict.values()))\n",
    "print(median_katz_centrality)"
   ]
  },
  {
   "cell_type": "code",
   "execution_count": 40,
   "metadata": {},
   "outputs": [],
   "source": [
    "#Function to calculate the katz centrality of a node given an input node\n",
    "\n",
    "import pickle\n",
    "file_name = r'F:\\data\\Facebook friend recommendation\\Facebook-20201030T080049Z-001\\Facebook\\data\\fea_sample\\katz.p'\n",
    "open_file = open(file_name, \"rb\")\n",
    "katz_centrality_dict = pickle.load(open_file)\n",
    "open_file.close()\n",
    "\n",
    "median_katz_centrality = np.median(list(katz_centrality_dict.values()))\n",
    "\n",
    "def katzCentrality_node(node):\n",
    "    \n",
    "    katzCentrality = katz_centrality_dict.get(node, median_katz_centrality)\n",
    "   \n",
    "    return katzCentrality"
   ]
  },
  {
   "cell_type": "code",
   "execution_count": 22,
   "metadata": {},
   "outputs": [
    {
     "data": {
      "text/plain": [
       "0.0007729488250589932"
      ]
     },
     "execution_count": 22,
     "metadata": {},
     "output_type": "execute_result"
    }
   ],
   "source": [
    "#Testing KatzCentrality function\n",
    "katzCentrality_node(273084)"
   ]
  },
  {
   "cell_type": "markdown",
   "metadata": {},
   "source": [
    "## 1.9 HITS Score (Hyperlink Induced Topic Search)\n",
    "HITS; also known as hubs and authorities. Its a very important algo in website search.\n",
    "\n",
    "When internet started we have two types of pages like yahoo.com (directory) and other one is cnbc.com where we get into from various other websites.\n",
    "\n",
    "In 2020(new world) there are two types of pages:\n",
    "1. Hubs - Hubs are basically directories where we have a lot of outdegree like Yahoo.com, google.com etc\n",
    "2. Authority - Authorities are basically pages where we have a lots of indegree like cnn.com. havard.edu etc.\n",
    "\n",
    "What HITS algo returns?<br>\n",
    "For each webpage it gives two scores - Hub score and authority score based on the outdegree and indegree.\n",
    "\n",
    "How algo works?<br>\n",
    "At the start for each webpage (p) the hub score is 1 and authority score is also 1.Its an iterative algo.\n",
    "Now the authority of webpage(p) is summation of all the hub score of pages linking to webpage (p)\n",
    "Similary the hub score of webpage(p) is summation of all the authority score of pages linking to webpage (p)\n",
    "So this will give me the authority score and hub score for each page after n no of iteration.\n",
    "\n",
    "#################################################################################################################\n",
    "\n",
    "The HITS algorithm computes two numbers for a node. <b>Authorities estimates the node value based on the incoming links. Hubs estimates the node value based on outgoing links.\n",
    "\n",
    "https://en.wikipedia.org/wiki/HITS_algorithm"
   ]
  },
  {
   "cell_type": "raw",
   "metadata": {},
   "source": [
    "#Code to find HITS score of all the nodes :-\n",
    "\n",
    "hits_score_dict = nx.hits(train_graph)\n",
    "\n",
    "#It returns me a tuple of two dictionary(one Hub dict and other one is Authority dict). The key to hub and authority dict will be node and value will be hub score and authority score."
   ]
  },
  {
   "cell_type": "code",
   "execution_count": 23,
   "metadata": {},
   "outputs": [],
   "source": [
    "#Here we are importing the HITS score dictionary created by AAIC because of computaional complexity of running above code.\n",
    "#https://stackoverflow.com/questions/42193963/file-extension-naming-p-vs-pkl-vs-pickle  -- .p is same as.pkl\n",
    "\n",
    "import pickle\n",
    "file_name = r'F:\\data\\Facebook friend recommendation\\Facebook-20201030T080049Z-001\\Facebook\\data\\fea_sample\\hits.p'\n",
    "open_file = open(file_name, \"rb\")\n",
    "hits_score_dict = pickle.load(open_file)\n",
    "open_file.close()"
   ]
  },
  {
   "cell_type": "code",
   "execution_count": 24,
   "metadata": {},
   "outputs": [
    {
     "name": "stdout",
     "output_type": "stream",
     "text": [
      "The length of Hubs score dict is 1780722\n",
      "The length of Authority score dict is 1780722\n"
     ]
    }
   ],
   "source": [
    "print(\"The length of Hubs score dict is\",len(hits_score_dict[0]))\n",
    "print(\"The length of Authority score dict is\",len(hits_score_dict[1]))"
   ]
  },
  {
   "cell_type": "code",
   "execution_count": 25,
   "metadata": {},
   "outputs": [
    {
     "name": "stdout",
     "output_type": "stream",
     "text": [
      "The min value of hubs score is 0.0\n",
      "The max value of hubs score is 0.004868653378780953\n",
      "The avg value of hubs score is 5.615699699370866e-07\n"
     ]
    }
   ],
   "source": [
    "print(\"The min value of hubs score is\",min(hits_score_dict[0].values()))\n",
    "print(\"The max value of hubs score is\",max(hits_score_dict[0].values()))\n",
    "print(\"The avg value of hubs score is\",np.mean(list(hits_score_dict[0].values())))"
   ]
  },
  {
   "cell_type": "code",
   "execution_count": 34,
   "metadata": {},
   "outputs": [
    {
     "name": "stdout",
     "output_type": "stream",
     "text": [
      "The min value of authority score is 0.0\n",
      "The max value of authority score is 0.0054775458498681736\n",
      "The avg value of authority score is 5.615699699360255e-07\n"
     ]
    }
   ],
   "source": [
    "print(\"The min value of authority score is\",min(hits_score_dict[1].values()))\n",
    "print(\"The max value of authority score is\",max(hits_score_dict[1].values()))\n",
    "print(\"The avg value of authority score is\",np.mean(list(hits_score_dict[1].values())))"
   ]
  },
  {
   "cell_type": "code",
   "execution_count": 35,
   "metadata": {},
   "outputs": [
    {
     "name": "stdout",
     "output_type": "stream",
     "text": [
      "The mean hub score is 5.615699699370866e-07\n",
      "The mean authority score is 5.615699699360255e-07\n"
     ]
    }
   ],
   "source": [
    "# Ques - what should be the hubs nd authority for the nodes which are not present in dict nodes?\n",
    "#We will put the mean value of the hubs nd authority for the nodes not there in the dictionary.\n",
    "\n",
    "mean_hub_score= np.mean(list(hits_score_dict[0].values()))\n",
    "print(\"The mean hub score is\",mean_hub_score)\n",
    "mean_authority_score= np.mean(list(hits_score_dict[1].values()))\n",
    "print(\"The mean authority score is\",mean_authority_score)"
   ]
  },
  {
   "cell_type": "code",
   "execution_count": 39,
   "metadata": {},
   "outputs": [],
   "source": [
    "#Function to calculate the hub score of a node given an input node\n",
    "\n",
    "import pickle\n",
    "file_name = r'F:\\data\\Facebook friend recommendation\\Facebook-20201030T080049Z-001\\Facebook\\data\\fea_sample\\hits.p'\n",
    "open_file = open(file_name, \"rb\")\n",
    "hits_score_dict = pickle.load(open_file)\n",
    "open_file.close()\n",
    "\n",
    "mean_hub_score= np.mean(list(hits_score_dict[0].values()))\n",
    "\n",
    "def hubScore_node(node):\n",
    "    \n",
    "    hubScore = hits_score_dict[0].get(node, mean_hub_score)\n",
    "   \n",
    "    return hubScore"
   ]
  },
  {
   "cell_type": "code",
   "execution_count": 55,
   "metadata": {},
   "outputs": [
    {
     "data": {
      "text/plain": [
       "1.9431321853230816e-13"
      ]
     },
     "execution_count": 55,
     "metadata": {},
     "output_type": "execute_result"
    }
   ],
   "source": [
    "#Test Function to calculate the Hub Score\n",
    "hubScore_node(273084)"
   ]
  },
  {
   "cell_type": "code",
   "execution_count": 38,
   "metadata": {},
   "outputs": [],
   "source": [
    "#Function to calculate the Authority score of a node given an input node\n",
    "\n",
    "import pickle\n",
    "file_name = r'F:\\data\\Facebook friend recommendation\\Facebook-20201030T080049Z-001\\Facebook\\data\\fea_sample\\hits.p'\n",
    "open_file = open(file_name, \"rb\")\n",
    "hits_score_dict = pickle.load(open_file)\n",
    "open_file.close()\n",
    "\n",
    "mean_authority_score= np.mean(list(hits_score_dict[1].values()))\n",
    "\n",
    "def authorityScore_node(node):\n",
    "    \n",
    "    authorityScore = hits_score_dict[1].get(node, mean_authority_score)\n",
    "   \n",
    "    return authorityScore"
   ]
  },
  {
   "cell_type": "code",
   "execution_count": 58,
   "metadata": {},
   "outputs": [
    {
     "data": {
      "text/plain": [
       "9.226339258277672e-16"
      ]
     },
     "execution_count": 58,
     "metadata": {},
     "output_type": "execute_result"
    }
   ],
   "source": [
    "#Test Function to calculate the Authority Score\n",
    "authorityScore_node(273084)"
   ]
  },
  {
   "cell_type": "markdown",
   "metadata": {},
   "source": [
    "## 2.0 No of Predecessor "
   ]
  },
  {
   "cell_type": "code",
   "execution_count": 36,
   "metadata": {},
   "outputs": [],
   "source": [
    "def predecessor(node):\n",
    "    try:\n",
    "        no_of_predecessors = len(set(train_graph.predecessors(node)))\n",
    "    except:\n",
    "        no_of_predecessors = -1\n",
    "    return no_of_predecessors"
   ]
  },
  {
   "cell_type": "markdown",
   "metadata": {},
   "source": [
    "## 2.1 No of Successor"
   ]
  },
  {
   "cell_type": "code",
   "execution_count": 37,
   "metadata": {},
   "outputs": [],
   "source": [
    "def successor(node):\n",
    "    try:\n",
    "        no_of_successors = len(set(train_graph.successors(node)))\n",
    "    except:\n",
    "        no_of_successors = -1\n",
    "    return no_of_successors"
   ]
  },
  {
   "cell_type": "markdown",
   "metadata": {},
   "source": [
    "# Data - Train Test data"
   ]
  },
  {
   "cell_type": "code",
   "execution_count": 28,
   "metadata": {},
   "outputs": [],
   "source": [
    "#Creating the data\n",
    "x_train_pos = pd.read_csv(r'F:\\data\\Facebook friend recommendation\\mine\\train_test_csv\\train_pos_after_eda.csv', names=[\"source_node\",\"destination_node\"])\n",
    "x_test_pos = pd.read_csv(r'F:\\data\\Facebook friend recommendation\\mine\\train_test_csv\\test_pos_after_eda.csv', names=[\"source_node\",\"destination_node\"])\n",
    "x_train_neg = pd.read_csv(r'F:\\data\\Facebook friend recommendation\\mine\\train_test_csv\\train_neg_after_eda.csv', names=[\"source_node\",\"destination_node\"])\n",
    "x_test_neg = pd.read_csv(r'F:\\data\\Facebook friend recommendation\\mine\\train_test_csv\\test_neg_after_eda.csv', names=[\"source_node\",\"destination_node\"], )"
   ]
  },
  {
   "cell_type": "code",
   "execution_count": 29,
   "metadata": {},
   "outputs": [
    {
     "name": "stdout",
     "output_type": "stream",
     "text": [
      "The shape of train data(positive) is (7550015, 2)\n",
      "The shape of test data(positive) is (1887504, 2)\n",
      "The shape of train data(negative) is (99333, 2)\n",
      "The shape of test data(negative) is (24834, 2)\n"
     ]
    }
   ],
   "source": [
    "print(\"The shape of train data(positive) is\",x_train_pos.shape)\n",
    "print(\"The shape of test data(positive) is\",x_test_pos.shape)\n",
    "print(\"The shape of train data(negative) is\",x_train_neg.shape)\n",
    "print(\"The shape of test data(negative) is\",x_test_neg.shape)"
   ]
  },
  {
   "cell_type": "code",
   "execution_count": 30,
   "metadata": {},
   "outputs": [
    {
     "name": "stdout",
     "output_type": "stream",
     "text": [
      "The shape of train data is (7649348, 2)\n",
      "The shape of test data is (3775008, 2)\n"
     ]
    }
   ],
   "source": [
    "train_data = pd.concat((x_train_pos, x_train_neg), ignore_index=True)\n",
    "test_data = pd.concat((x_test_pos, x_test_pos), ignore_index=True)\n",
    "\n",
    "print(\"The shape of train data is\", train_data.shape)\n",
    "print(\"The shape of test data is\", test_data.shape)"
   ]
  },
  {
   "cell_type": "code",
   "execution_count": 31,
   "metadata": {},
   "outputs": [
    {
     "data": {
      "text/html": [
       "<div>\n",
       "<style scoped>\n",
       "    .dataframe tbody tr th:only-of-type {\n",
       "        vertical-align: middle;\n",
       "    }\n",
       "\n",
       "    .dataframe tbody tr th {\n",
       "        vertical-align: top;\n",
       "    }\n",
       "\n",
       "    .dataframe thead th {\n",
       "        text-align: right;\n",
       "    }\n",
       "</style>\n",
       "<table border=\"1\" class=\"dataframe\">\n",
       "  <thead>\n",
       "    <tr style=\"text-align: right;\">\n",
       "      <th></th>\n",
       "      <th>source_node</th>\n",
       "      <th>destination_node</th>\n",
       "    </tr>\n",
       "  </thead>\n",
       "  <tbody>\n",
       "    <tr>\n",
       "      <th>0</th>\n",
       "      <td>1116096</td>\n",
       "      <td>98008</td>\n",
       "    </tr>\n",
       "    <tr>\n",
       "      <th>1</th>\n",
       "      <td>1802090</td>\n",
       "      <td>138943</td>\n",
       "    </tr>\n",
       "    <tr>\n",
       "      <th>2</th>\n",
       "      <td>725604</td>\n",
       "      <td>1631748</td>\n",
       "    </tr>\n",
       "    <tr>\n",
       "      <th>3</th>\n",
       "      <td>430881</td>\n",
       "      <td>127882</td>\n",
       "    </tr>\n",
       "    <tr>\n",
       "      <th>4</th>\n",
       "      <td>1134745</td>\n",
       "      <td>1613651</td>\n",
       "    </tr>\n",
       "  </tbody>\n",
       "</table>\n",
       "</div>"
      ],
      "text/plain": [
       "   source_node  destination_node\n",
       "0      1116096             98008\n",
       "1      1802090            138943\n",
       "2       725604           1631748\n",
       "3       430881            127882\n",
       "4      1134745           1613651"
      ]
     },
     "execution_count": 31,
     "metadata": {},
     "output_type": "execute_result"
    }
   ],
   "source": [
    "train_data.head()"
   ]
  },
  {
   "cell_type": "markdown",
   "metadata": {},
   "source": [
    "### Feature Creation in Train data"
   ]
  },
  {
   "cell_type": "raw",
   "metadata": {},
   "source": [
    "from tqdm import tqdm\n",
    "tqdm.pandas()\n",
    "train_data['source_predecessor'] = train_data['source_node'].progress_apply(lambda x: predecessor(x))\n",
    "train_data['source_successor'] = train_data['source_node'].progress_apply(lambda x: successor(x))\n",
    "train_data['destination_predecessor'] = train_data['destination_node'].progress_apply(lambda x: predecessor(x))\n",
    "train_data['destination_successor'] = train_data['destination_node'].progress_apply(lambda x: successor(x))"
   ]
  },
  {
   "cell_type": "raw",
   "metadata": {},
   "source": [
    "train_data['jaccard_for_predecessor'] = train_data.progress_apply(lambda x : jaccard_for_predecessor(x['source_node'], \\\n",
    "                                        x[\"destination_node\"]), axis=1)\n",
    "train_data['jaccard_for_successor'] = train_data.progress_apply(lambda x : jaccard_for_successor(x['source_node'], \\\n",
    "                                        x[\"destination_node\"]), axis=1)\n",
    "train_data['jaccard_for_pred_succ'] = train_data.progress_apply(lambda x : jaccard_for_pred_succ(x['source_node'], \\\n",
    "                                        x[\"destination_node\"]), axis=1)"
   ]
  },
  {
   "cell_type": "raw",
   "metadata": {},
   "source": [
    "train_data['cosine_for_predecessor'] = train_data.progress_apply(lambda x : cosine_for_predecessor(x['source_node'], \\\n",
    "                                        x[\"destination_node\"]), axis=1)\n",
    "train_data['cosine_for_successor'] = train_data.progress_apply(lambda x : cosine_for_successor(x['source_node'], \\\n",
    "                                        x[\"destination_node\"]), axis=1)\n",
    "train_data['cosine_for_pred_succ'] = train_data.progress_apply(lambda x : cosine_for_pred_suc(x['source_node'], \\\n",
    "                                        x[\"destination_node\"]), axis=1)"
   ]
  },
  {
   "cell_type": "raw",
   "metadata": {},
   "source": [
    "train_data['belongs_same_weakly_community'] = train_data.progress_apply(lambda x : belongs_to_same_weakly_community(x['source_node'], \\\n",
    "                                        x[\"destination_node\"]), axis=1)\n",
    "train_data['belongs_same_strongly_community'] = train_data.progress_apply(lambda x : belongs_to_same_strongly_community(x['source_node'], \\\n",
    "                                        x[\"destination_node\"]), axis=1)\n",
    "train_data['adar_index'] = train_data.progress_apply(lambda x : adamic_adar_index(x['source_node'], \\\n",
    "                                        x[\"destination_node\"]), axis=1)"
   ]
  },
  {
   "cell_type": "raw",
   "metadata": {},
   "source": [
    "train_data['is_following_back'] = train_data.progress_apply(lambda x : is_following_back(x['source_node'], \\\n",
    "                                        x[\"destination_node\"]), axis=1)\n",
    "                                        \n",
    "#This piece of code is taking a lot of time to run so not using this feature in model."
   ]
  },
  {
   "cell_type": "raw",
   "metadata": {},
   "source": [
    "train_data['pagerank_predecessor'] = train_data['source_node'].progress_apply(pagerank_node)\n",
    "train_data['pagerank_successor'] = train_data['destination_node'].progress_apply(pagerank_node)\n",
    "\n",
    "train_data['katzCentrality_predecessor'] = train_data['source_node'].progress_apply(katzCentrality_node)\n",
    "train_data['katzCentrality_successor'] = train_data['destination_node'].progress_apply(katzCentrality_node)"
   ]
  },
  {
   "cell_type": "raw",
   "metadata": {},
   "source": [
    "train_data['hub_predecessor'] = train_data['source_node'].progress_apply(hubScore_node)\n",
    "train_data['hub_successor'] = train_data['destination_node'].progress_apply(hubScore_node)\n",
    "\n",
    "train_data['authority_predecessor'] = train_data['source_node'].progress_apply(authorityScore_node)\n",
    "train_data['authority_successor'] = train_data['destination_node'].progress_apply(authorityScore_node)"
   ]
  },
  {
   "cell_type": "raw",
   "metadata": {},
   "source": [
    "### Dont Run this piece of code\n",
    "\n",
    "train_data.to_csv(r'F:\\data\\Facebook friend recommendation\\mine\\train_test_csv\\train_data_dataframe.csv')\n",
    "train_data.to_csv(r'F:\\data\\Facebook friend recommendation\\mine\\train_test_csv\\train_data_dataframe1.csv')\n",
    "\n",
    "train_data = pd.read_csv(r'F:\\data\\Facebook friend recommendation\\mine\\train_test_csv\\train_data_dataframe.csv', index_col=0)"
   ]
  },
  {
   "cell_type": "code",
   "execution_count": 6,
   "metadata": {},
   "outputs": [
    {
     "name": "stdout",
     "output_type": "stream",
     "text": [
      "The train data after featurization is as below \n",
      "===========================================================================\n",
      "Note - Run below code to import the train data\n"
     ]
    }
   ],
   "source": [
    "print(\"The train data after featurization is as below \")\n",
    "print(\"=\"*75)\n",
    "print(\"Note - Run below code to import the train data\")"
   ]
  },
  {
   "cell_type": "code",
   "execution_count": 3,
   "metadata": {},
   "outputs": [
    {
     "data": {
      "text/html": [
       "<div>\n",
       "<style scoped>\n",
       "    .dataframe tbody tr th:only-of-type {\n",
       "        vertical-align: middle;\n",
       "    }\n",
       "\n",
       "    .dataframe tbody tr th {\n",
       "        vertical-align: top;\n",
       "    }\n",
       "\n",
       "    .dataframe thead th {\n",
       "        text-align: right;\n",
       "    }\n",
       "</style>\n",
       "<table border=\"1\" class=\"dataframe\">\n",
       "  <thead>\n",
       "    <tr style=\"text-align: right;\">\n",
       "      <th></th>\n",
       "      <th>source_node</th>\n",
       "      <th>destination_node</th>\n",
       "      <th>source_predecessor</th>\n",
       "      <th>source_successor</th>\n",
       "      <th>destination_predecessor</th>\n",
       "      <th>destination_successor</th>\n",
       "      <th>jaccard_for_predecessor</th>\n",
       "      <th>jaccard_for_successor</th>\n",
       "      <th>jaccard_for_pred_succ</th>\n",
       "      <th>cosine_for_predecessor</th>\n",
       "      <th>...</th>\n",
       "      <th>belongs_same_strongly_community</th>\n",
       "      <th>adar_index</th>\n",
       "      <th>pagerank_predecessor</th>\n",
       "      <th>pagerank_successor</th>\n",
       "      <th>katzCentrality_predecessor</th>\n",
       "      <th>katzCentrality_successor</th>\n",
       "      <th>hub_predecessor</th>\n",
       "      <th>hub_successor</th>\n",
       "      <th>authority_predecessor</th>\n",
       "      <th>authority_successor</th>\n",
       "    </tr>\n",
       "  </thead>\n",
       "  <tbody>\n",
       "    <tr>\n",
       "      <th>0</th>\n",
       "      <td>1116096</td>\n",
       "      <td>98008</td>\n",
       "      <td>53</td>\n",
       "      <td>77</td>\n",
       "      <td>4</td>\n",
       "      <td>5</td>\n",
       "      <td>0.036364</td>\n",
       "      <td>0.051282</td>\n",
       "      <td>0.038462</td>\n",
       "      <td>0.009434</td>\n",
       "      <td>...</td>\n",
       "      <td>0</td>\n",
       "      <td>1.359393</td>\n",
       "      <td>1.766496e-06</td>\n",
       "      <td>2.973301e-07</td>\n",
       "      <td>0.000920</td>\n",
       "      <td>0.000757</td>\n",
       "      <td>1.063084e-14</td>\n",
       "      <td>8.050301e-16</td>\n",
       "      <td>3.904481e-14</td>\n",
       "      <td>2.885838e-15</td>\n",
       "    </tr>\n",
       "    <tr>\n",
       "      <th>1</th>\n",
       "      <td>1802090</td>\n",
       "      <td>138943</td>\n",
       "      <td>13</td>\n",
       "      <td>7</td>\n",
       "      <td>15</td>\n",
       "      <td>10</td>\n",
       "      <td>0.166667</td>\n",
       "      <td>0.133333</td>\n",
       "      <td>0.222222</td>\n",
       "      <td>0.020513</td>\n",
       "      <td>...</td>\n",
       "      <td>0</td>\n",
       "      <td>1.663277</td>\n",
       "      <td>1.104992e-06</td>\n",
       "      <td>4.826087e-07</td>\n",
       "      <td>0.000783</td>\n",
       "      <td>0.000781</td>\n",
       "      <td>3.201043e-14</td>\n",
       "      <td>3.201585e-14</td>\n",
       "      <td>1.039542e-15</td>\n",
       "      <td>1.621770e-15</td>\n",
       "    </tr>\n",
       "    <tr>\n",
       "      <th>2</th>\n",
       "      <td>725604</td>\n",
       "      <td>1631748</td>\n",
       "      <td>3</td>\n",
       "      <td>4</td>\n",
       "      <td>2</td>\n",
       "      <td>0</td>\n",
       "      <td>0.000000</td>\n",
       "      <td>0.000000</td>\n",
       "      <td>0.000000</td>\n",
       "      <td>0.000000</td>\n",
       "      <td>...</td>\n",
       "      <td>0</td>\n",
       "      <td>0.000000</td>\n",
       "      <td>1.650606e-06</td>\n",
       "      <td>2.678509e-07</td>\n",
       "      <td>0.000754</td>\n",
       "      <td>0.000739</td>\n",
       "      <td>1.227069e-17</td>\n",
       "      <td>1.846375e-20</td>\n",
       "      <td>2.572396e-18</td>\n",
       "      <td>6.057453e-18</td>\n",
       "    </tr>\n",
       "    <tr>\n",
       "      <th>3</th>\n",
       "      <td>430881</td>\n",
       "      <td>127882</td>\n",
       "      <td>19</td>\n",
       "      <td>11</td>\n",
       "      <td>16</td>\n",
       "      <td>19</td>\n",
       "      <td>0.521739</td>\n",
       "      <td>0.304348</td>\n",
       "      <td>0.350000</td>\n",
       "      <td>0.039474</td>\n",
       "      <td>...</td>\n",
       "      <td>0</td>\n",
       "      <td>5.722252</td>\n",
       "      <td>5.350317e-07</td>\n",
       "      <td>5.827873e-07</td>\n",
       "      <td>0.000787</td>\n",
       "      <td>0.000791</td>\n",
       "      <td>1.361818e-19</td>\n",
       "      <td>3.025044e-19</td>\n",
       "      <td>1.988917e-18</td>\n",
       "      <td>1.007531e-18</td>\n",
       "    </tr>\n",
       "    <tr>\n",
       "      <th>4</th>\n",
       "      <td>1134745</td>\n",
       "      <td>1613651</td>\n",
       "      <td>15</td>\n",
       "      <td>69</td>\n",
       "      <td>86</td>\n",
       "      <td>99</td>\n",
       "      <td>0.097826</td>\n",
       "      <td>0.486726</td>\n",
       "      <td>0.476190</td>\n",
       "      <td>0.006977</td>\n",
       "      <td>...</td>\n",
       "      <td>0</td>\n",
       "      <td>13.577117</td>\n",
       "      <td>2.479396e-07</td>\n",
       "      <td>8.159082e-07</td>\n",
       "      <td>0.000825</td>\n",
       "      <td>0.001308</td>\n",
       "      <td>4.737978e-11</td>\n",
       "      <td>4.995488e-11</td>\n",
       "      <td>4.186063e-12</td>\n",
       "      <td>2.621834e-11</td>\n",
       "    </tr>\n",
       "  </tbody>\n",
       "</table>\n",
       "<p>5 rows × 23 columns</p>\n",
       "</div>"
      ],
      "text/plain": [
       "   source_node  destination_node  source_predecessor  source_successor  \\\n",
       "0      1116096             98008                  53                77   \n",
       "1      1802090            138943                  13                 7   \n",
       "2       725604           1631748                   3                 4   \n",
       "3       430881            127882                  19                11   \n",
       "4      1134745           1613651                  15                69   \n",
       "\n",
       "   destination_predecessor  destination_successor  jaccard_for_predecessor  \\\n",
       "0                        4                      5                 0.036364   \n",
       "1                       15                     10                 0.166667   \n",
       "2                        2                      0                 0.000000   \n",
       "3                       16                     19                 0.521739   \n",
       "4                       86                     99                 0.097826   \n",
       "\n",
       "   jaccard_for_successor  jaccard_for_pred_succ  cosine_for_predecessor  ...  \\\n",
       "0               0.051282               0.038462                0.009434  ...   \n",
       "1               0.133333               0.222222                0.020513  ...   \n",
       "2               0.000000               0.000000                0.000000  ...   \n",
       "3               0.304348               0.350000                0.039474  ...   \n",
       "4               0.486726               0.476190                0.006977  ...   \n",
       "\n",
       "   belongs_same_strongly_community  adar_index  pagerank_predecessor  \\\n",
       "0                                0    1.359393          1.766496e-06   \n",
       "1                                0    1.663277          1.104992e-06   \n",
       "2                                0    0.000000          1.650606e-06   \n",
       "3                                0    5.722252          5.350317e-07   \n",
       "4                                0   13.577117          2.479396e-07   \n",
       "\n",
       "   pagerank_successor  katzCentrality_predecessor  katzCentrality_successor  \\\n",
       "0        2.973301e-07                    0.000920                  0.000757   \n",
       "1        4.826087e-07                    0.000783                  0.000781   \n",
       "2        2.678509e-07                    0.000754                  0.000739   \n",
       "3        5.827873e-07                    0.000787                  0.000791   \n",
       "4        8.159082e-07                    0.000825                  0.001308   \n",
       "\n",
       "   hub_predecessor  hub_successor  authority_predecessor  authority_successor  \n",
       "0     1.063084e-14   8.050301e-16           3.904481e-14         2.885838e-15  \n",
       "1     3.201043e-14   3.201585e-14           1.039542e-15         1.621770e-15  \n",
       "2     1.227069e-17   1.846375e-20           2.572396e-18         6.057453e-18  \n",
       "3     1.361818e-19   3.025044e-19           1.988917e-18         1.007531e-18  \n",
       "4     4.737978e-11   4.995488e-11           4.186063e-12         2.621834e-11  \n",
       "\n",
       "[5 rows x 23 columns]"
      ]
     },
     "execution_count": 3,
     "metadata": {},
     "output_type": "execute_result"
    }
   ],
   "source": [
    "train_data = pd.read_csv(r'F:\\data\\Facebook friend recommendation\\mine\\train_test_csv\\train_data_dataframe1.csv', index_col=0)\n",
    "train_data.head()"
   ]
  },
  {
   "cell_type": "markdown",
   "metadata": {},
   "source": [
    "### Feature Creation in Test data"
   ]
  },
  {
   "cell_type": "raw",
   "metadata": {},
   "source": [
    "from tqdm import tqdm\n",
    "tqdm.pandas()\n",
    "\n",
    "test_data['source_predecessor'] = test_data['source_node'].progress_apply(lambda x: predecessor(x))\n",
    "test_data['source_successor'] = test_data['source_node'].progress_apply(lambda x: successor(x))\n",
    "test_data['destination_predecessor'] = test_data['destination_node'].progress_apply(lambda x: predecessor(x))\n",
    "test_data['destination_successor'] = test_data['destination_node'].progress_apply(lambda x: successor(x))\n",
    "\n",
    "#--------------------------------------------------------------------------------------------------------------------------\n",
    "\n",
    "test_data['jaccard_for_predecessor'] = test_data.progress_apply(lambda x : jaccard_for_predecessor(x['source_node'], \\\n",
    "                                        x[\"destination_node\"]), axis=1)\n",
    "test_data['jaccard_for_successor'] = test_data.progress_apply(lambda x : jaccard_for_successor(x['source_node'], \\\n",
    "                                        x[\"destination_node\"]), axis=1)\n",
    "test_data['jaccard_for_pred_succ'] = test_data.progress_apply(lambda x : jaccard_for_pred_succ(x['source_node'], \\\n",
    "                                        x[\"destination_node\"]), axis=1)\n",
    "\n",
    "#--------------------------------------------------------------------------------------------------------------------------\n",
    "\n",
    "test_data['cosine_for_predecessor'] = test_data.progress_apply(lambda x : cosine_for_predecessor(x['source_node'], \\\n",
    "                                        x[\"destination_node\"]), axis=1)\n",
    "test_data['cosine_for_successor'] = test_data.progress_apply(lambda x : cosine_for_successor(x['source_node'], \\\n",
    "                                        x[\"destination_node\"]), axis=1)\n",
    "test_data['cosine_for_pred_succ'] = test_data.progress_apply(lambda x : cosine_for_pred_suc(x['source_node'], \\\n",
    "                                        x[\"destination_node\"]), axis=1)\n",
    "                                        \n",
    "#----------------------------------------------------------------------------------------------------------------------------\n",
    "\n",
    "test_data['belongs_same_weakly_community'] = test_data.progress_apply(lambda x : belongs_to_same_weakly_community(x['source_node'], \\\n",
    "                                        x[\"destination_node\"]), axis=1)\n",
    "test_data['belongs_same_strongly_community'] = test_data.progress_apply(lambda x : belongs_to_same_strongly_community(x['source_node'], \\\n",
    "                                        x[\"destination_node\"]), axis=1)\n",
    "test_data['adar_index'] = test_data.progress_apply(lambda x : adamic_adar_index(x['source_node'], \\\n",
    "                                        x[\"destination_node\"]), axis=1)\n",
    "\n",
    "#-------------------------------------------------------------------------------------------------------------------------------"
   ]
  },
  {
   "cell_type": "raw",
   "metadata": {},
   "source": [
    "test_data['pagerank_predecessor'] = test_data['source_node'].progress_apply(pagerank_node)\n",
    "test_data['pagerank_successor'] = test_data['destination_node'].progress_apply(pagerank_node)\n",
    "\n",
    "test_data['katzCentrality_predecessor'] = test_data['source_node'].progress_apply(katzCentrality_node)\n",
    "test_data['katzCentrality_successor'] = test_data['destination_node'].progress_apply(katzCentrality_node)\n",
    "\n",
    "#--------------------------------------------------------------------------------------------------------------------------------\n",
    "\n",
    "test_data['hub_predecessor'] = test_data['source_node'].progress_apply(hubScore_node)\n",
    "test_data['hub_successor'] = test_data['destination_node'].progress_apply(hubScore_node)\n",
    "\n",
    "test_data['authority_predecessor'] = test_data['source_node'].progress_apply(authorityScore_node)\n",
    "test_data['authority_successor'] = test_data['destination_node'].progress_apply(authorityScore_node)"
   ]
  },
  {
   "cell_type": "raw",
   "metadata": {},
   "source": [
    "### Dont Run this piece of code\n",
    "\n",
    "test_data.to_csv(r'F:\\data\\Facebook friend recommendation\\mine\\train_test_csv\\test_data_dataframe1.csv')"
   ]
  },
  {
   "cell_type": "code",
   "execution_count": 8,
   "metadata": {},
   "outputs": [
    {
     "name": "stdout",
     "output_type": "stream",
     "text": [
      "The test data after featurization is as below \n",
      "===========================================================================\n",
      "Note - Run below code to import the test data\n"
     ]
    }
   ],
   "source": [
    "print(\"The test data after featurization is as below\")\n",
    "print(\"=\"*75)\n",
    "print(\"Note - Run below code to import the test data\")"
   ]
  },
  {
   "cell_type": "code",
   "execution_count": 3,
   "metadata": {},
   "outputs": [
    {
     "data": {
      "text/html": [
       "<div>\n",
       "<style scoped>\n",
       "    .dataframe tbody tr th:only-of-type {\n",
       "        vertical-align: middle;\n",
       "    }\n",
       "\n",
       "    .dataframe tbody tr th {\n",
       "        vertical-align: top;\n",
       "    }\n",
       "\n",
       "    .dataframe thead th {\n",
       "        text-align: right;\n",
       "    }\n",
       "</style>\n",
       "<table border=\"1\" class=\"dataframe\">\n",
       "  <thead>\n",
       "    <tr style=\"text-align: right;\">\n",
       "      <th></th>\n",
       "      <th>source_node</th>\n",
       "      <th>destination_node</th>\n",
       "      <th>source_predecessor</th>\n",
       "      <th>source_successor</th>\n",
       "      <th>destination_predecessor</th>\n",
       "      <th>destination_successor</th>\n",
       "      <th>jaccard_for_predecessor</th>\n",
       "      <th>jaccard_for_successor</th>\n",
       "      <th>jaccard_for_pred_succ</th>\n",
       "      <th>cosine_for_predecessor</th>\n",
       "      <th>...</th>\n",
       "      <th>belongs_same_strongly_community</th>\n",
       "      <th>adar_index</th>\n",
       "      <th>pagerank_predecessor</th>\n",
       "      <th>pagerank_successor</th>\n",
       "      <th>katzCentrality_predecessor</th>\n",
       "      <th>katzCentrality_successor</th>\n",
       "      <th>hub_predecessor</th>\n",
       "      <th>hub_successor</th>\n",
       "      <th>authority_predecessor</th>\n",
       "      <th>authority_successor</th>\n",
       "    </tr>\n",
       "  </thead>\n",
       "  <tbody>\n",
       "    <tr>\n",
       "      <th>0</th>\n",
       "      <td>940823</td>\n",
       "      <td>790831</td>\n",
       "      <td>4</td>\n",
       "      <td>3</td>\n",
       "      <td>8</td>\n",
       "      <td>10</td>\n",
       "      <td>0.000000</td>\n",
       "      <td>0.181818</td>\n",
       "      <td>0.000000</td>\n",
       "      <td>0.000000</td>\n",
       "      <td>...</td>\n",
       "      <td>0</td>\n",
       "      <td>0.961797</td>\n",
       "      <td>5.440230e-07</td>\n",
       "      <td>8.683074e-07</td>\n",
       "      <td>0.000746</td>\n",
       "      <td>0.000757</td>\n",
       "      <td>2.805448e-19</td>\n",
       "      <td>3.820586e-18</td>\n",
       "      <td>2.034288e-19</td>\n",
       "      <td>8.494631e-18</td>\n",
       "    </tr>\n",
       "    <tr>\n",
       "      <th>1</th>\n",
       "      <td>1361606</td>\n",
       "      <td>1753248</td>\n",
       "      <td>6</td>\n",
       "      <td>9</td>\n",
       "      <td>-1</td>\n",
       "      <td>-1</td>\n",
       "      <td>0.000000</td>\n",
       "      <td>0.000000</td>\n",
       "      <td>0.000000</td>\n",
       "      <td>0.000000</td>\n",
       "      <td>...</td>\n",
       "      <td>-1</td>\n",
       "      <td>0.000000</td>\n",
       "      <td>1.798603e-06</td>\n",
       "      <td>2.186021e-07</td>\n",
       "      <td>0.000758</td>\n",
       "      <td>0.000735</td>\n",
       "      <td>1.276363e-15</td>\n",
       "      <td>0.000000e+00</td>\n",
       "      <td>7.361171e-17</td>\n",
       "      <td>8.975693e-18</td>\n",
       "    </tr>\n",
       "    <tr>\n",
       "      <th>2</th>\n",
       "      <td>30020</td>\n",
       "      <td>672060</td>\n",
       "      <td>6</td>\n",
       "      <td>7</td>\n",
       "      <td>1</td>\n",
       "      <td>2</td>\n",
       "      <td>0.000000</td>\n",
       "      <td>0.000000</td>\n",
       "      <td>0.000000</td>\n",
       "      <td>0.000000</td>\n",
       "      <td>...</td>\n",
       "      <td>0</td>\n",
       "      <td>0.000000</td>\n",
       "      <td>9.298684e-07</td>\n",
       "      <td>3.379358e-07</td>\n",
       "      <td>0.000755</td>\n",
       "      <td>0.000739</td>\n",
       "      <td>1.333162e-15</td>\n",
       "      <td>3.355481e-17</td>\n",
       "      <td>4.674243e-15</td>\n",
       "      <td>9.731194e-18</td>\n",
       "    </tr>\n",
       "    <tr>\n",
       "      <th>3</th>\n",
       "      <td>1259625</td>\n",
       "      <td>886886</td>\n",
       "      <td>1</td>\n",
       "      <td>0</td>\n",
       "      <td>3</td>\n",
       "      <td>3</td>\n",
       "      <td>0.000000</td>\n",
       "      <td>0.000000</td>\n",
       "      <td>0.000000</td>\n",
       "      <td>0.000000</td>\n",
       "      <td>...</td>\n",
       "      <td>0</td>\n",
       "      <td>0.000000</td>\n",
       "      <td>3.246765e-07</td>\n",
       "      <td>7.989511e-07</td>\n",
       "      <td>0.000735</td>\n",
       "      <td>0.000743</td>\n",
       "      <td>0.000000e+00</td>\n",
       "      <td>1.002960e-15</td>\n",
       "      <td>7.053053e-18</td>\n",
       "      <td>1.637271e-20</td>\n",
       "    </tr>\n",
       "    <tr>\n",
       "      <th>4</th>\n",
       "      <td>290195</td>\n",
       "      <td>1076765</td>\n",
       "      <td>27</td>\n",
       "      <td>19</td>\n",
       "      <td>35</td>\n",
       "      <td>34</td>\n",
       "      <td>0.265306</td>\n",
       "      <td>0.152174</td>\n",
       "      <td>0.227273</td>\n",
       "      <td>0.013757</td>\n",
       "      <td>...</td>\n",
       "      <td>0</td>\n",
       "      <td>4.103743</td>\n",
       "      <td>1.136074e-06</td>\n",
       "      <td>1.186267e-06</td>\n",
       "      <td>0.000827</td>\n",
       "      <td>0.000871</td>\n",
       "      <td>1.953595e-13</td>\n",
       "      <td>3.100142e-10</td>\n",
       "      <td>1.342484e-13</td>\n",
       "      <td>4.253790e-13</td>\n",
       "    </tr>\n",
       "  </tbody>\n",
       "</table>\n",
       "<p>5 rows × 23 columns</p>\n",
       "</div>"
      ],
      "text/plain": [
       "   source_node  destination_node  source_predecessor  source_successor  \\\n",
       "0       940823            790831                   4                 3   \n",
       "1      1361606           1753248                   6                 9   \n",
       "2        30020            672060                   6                 7   \n",
       "3      1259625            886886                   1                 0   \n",
       "4       290195           1076765                  27                19   \n",
       "\n",
       "   destination_predecessor  destination_successor  jaccard_for_predecessor  \\\n",
       "0                        8                     10                 0.000000   \n",
       "1                       -1                     -1                 0.000000   \n",
       "2                        1                      2                 0.000000   \n",
       "3                        3                      3                 0.000000   \n",
       "4                       35                     34                 0.265306   \n",
       "\n",
       "   jaccard_for_successor  jaccard_for_pred_succ  cosine_for_predecessor  ...  \\\n",
       "0               0.181818               0.000000                0.000000  ...   \n",
       "1               0.000000               0.000000                0.000000  ...   \n",
       "2               0.000000               0.000000                0.000000  ...   \n",
       "3               0.000000               0.000000                0.000000  ...   \n",
       "4               0.152174               0.227273                0.013757  ...   \n",
       "\n",
       "   belongs_same_strongly_community  adar_index  pagerank_predecessor  \\\n",
       "0                                0    0.961797          5.440230e-07   \n",
       "1                               -1    0.000000          1.798603e-06   \n",
       "2                                0    0.000000          9.298684e-07   \n",
       "3                                0    0.000000          3.246765e-07   \n",
       "4                                0    4.103743          1.136074e-06   \n",
       "\n",
       "   pagerank_successor  katzCentrality_predecessor  katzCentrality_successor  \\\n",
       "0        8.683074e-07                    0.000746                  0.000757   \n",
       "1        2.186021e-07                    0.000758                  0.000735   \n",
       "2        3.379358e-07                    0.000755                  0.000739   \n",
       "3        7.989511e-07                    0.000735                  0.000743   \n",
       "4        1.186267e-06                    0.000827                  0.000871   \n",
       "\n",
       "   hub_predecessor  hub_successor  authority_predecessor  authority_successor  \n",
       "0     2.805448e-19   3.820586e-18           2.034288e-19         8.494631e-18  \n",
       "1     1.276363e-15   0.000000e+00           7.361171e-17         8.975693e-18  \n",
       "2     1.333162e-15   3.355481e-17           4.674243e-15         9.731194e-18  \n",
       "3     0.000000e+00   1.002960e-15           7.053053e-18         1.637271e-20  \n",
       "4     1.953595e-13   3.100142e-10           1.342484e-13         4.253790e-13  \n",
       "\n",
       "[5 rows x 23 columns]"
      ]
     },
     "execution_count": 3,
     "metadata": {},
     "output_type": "execute_result"
    }
   ],
   "source": [
    "test_data = pd.read_csv(r'F:\\data\\Facebook friend recommendation\\mine\\train_test_csv\\test_data_dataframe1.csv', index_col=0)\n",
    "test_data.head()"
   ]
  },
  {
   "cell_type": "code",
   "execution_count": 4,
   "metadata": {},
   "outputs": [
    {
     "name": "stdout",
     "output_type": "stream",
     "text": [
      "====================================================================================================\n"
     ]
    }
   ],
   "source": [
    "print(\"=\"*100)"
   ]
  },
  {
   "cell_type": "code",
   "execution_count": 21,
   "metadata": {},
   "outputs": [
    {
     "name": "stdout",
     "output_type": "stream",
     "text": [
      "Name: \n",
      "Type: DiGraph\n",
      "Number of nodes: 4\n",
      "Number of edges: 4\n",
      "Average in degree:   1.0000\n",
      "Average out degree:   1.0000\n"
     ]
    },
    {
     "data": {
      "text/plain": [
       "array([[0, 1, 0, 1],\n",
       "       [0, 0, 1, 0],\n",
       "       [0, 0, 0, 1],\n",
       "       [0, 0, 0, 0]], dtype=int32)"
      ]
     },
     "execution_count": 21,
     "metadata": {},
     "output_type": "execute_result"
    },
    {
     "data": {
      "image/png": "[encoded data removed]",
      "text/plain": [
       "<Figure size 288x288 with 1 Axes>"
      ]
     },
     "metadata": {},
     "output_type": "display_data"
    }
   ],
   "source": [
    "#What is Adjacent Matrix?\n",
    "#The size of the matrix is VxV where V is the number of vertices in the graph and the value of an entry Aij is either 1 or 0 \n",
    "#depending on whether there is an edge from vertex i to vertex j.\n",
    "\n",
    "import networkx as nx\n",
    "graph = nx.DiGraph() #(Creating a graph)\n",
    "graph.add_edges_from([(1,2),(2,3),(3,4), (1,4)])  #Adding nodes and edges to graph\n",
    "\n",
    "plt.figure(figsize=(4,4))\n",
    "nx.draw(graph, pos=nx.spring_layout(graph), with_labels = True) #pos == position which means the positon on graph where each node lies\n",
    "plt.draw()\n",
    "print(nx.info(graph))\n",
    "\n",
    "mat = nx.adjacency_matrix(graph)\n",
    "mat.toarray()"
   ]
  },
  {
   "cell_type": "code",
   "execution_count": 25,
   "metadata": {},
   "outputs": [
    {
     "name": "stdout",
     "output_type": "stream",
     "text": [
      "========================================================================================================================\n"
     ]
    }
   ],
   "source": [
    "print(\"=\"*120)"
   ]
  },
  {
   "cell_type": "markdown",
   "metadata": {},
   "source": [
    "### Adjacent Matrix for Graph Data"
   ]
  },
  {
   "cell_type": "raw",
   "metadata": {},
   "source": [
    "#Create Adjacent Matrix for Train data-data_train\n",
    "\n",
    "from scipy import sparse\n",
    "\n",
    "adj_matrix = nx.adjacency_matrix(train_graph, nodelist=set(list(train_graph.nodes)))\n",
    "print(type(adj_matrix))\n",
    "print(adj_matrix.shape)\n",
    "\n",
    "sparse.save_npz(r\"F:\\data\\Facebook friend recommendation\\mine\\adjacent_matrix\",adj_matrix)"
   ]
  },
  {
   "cell_type": "code",
   "execution_count": 4,
   "metadata": {},
   "outputs": [],
   "source": [
    "from scipy import sparse\n",
    "adj_matrix = sparse.load_npz(r\"F:\\data\\Facebook friend recommendation\\mine\\adjacent_matrix.npz\")"
   ]
  },
  {
   "cell_type": "code",
   "execution_count": 5,
   "metadata": {},
   "outputs": [
    {
     "name": "stdout",
     "output_type": "stream",
     "text": [
      "Adjacency matrix Shape (1780708, 1780708)\n",
      "U shape (1780708, 5)\n",
      "S shape (5,)\n",
      "V shape (5, 1780708)\n"
     ]
    }
   ],
   "source": [
    "adj_matrix = adj_matrix.asfptype()\n",
    "from scipy.sparse.linalg import svds, eigs\n",
    "u, s, v = svds(adj_matrix, k = 5)\n",
    "\n",
    "print('Adjacency matrix Shape',adj_matrix.shape) #Here it means that each node is represented as a vector of size 5\n",
    "print(\"U shape\",u.shape)\n",
    "print(\"S shape\",s.shape)\n",
    "print(\"V shape\",v.shape)"
   ]
  },
  {
   "cell_type": "code",
   "execution_count": 6,
   "metadata": {},
   "outputs": [],
   "source": [
    "train_graph_nodes = list(train_graph.nodes)\n",
    "svd_index = sorted(list(train_graph.nodes))\n",
    "svd_dict = dict(zip(svd_index,u))"
   ]
  },
  {
   "cell_type": "code",
   "execution_count": 7,
   "metadata": {},
   "outputs": [],
   "source": [
    "def svd_features(node):\n",
    "    z = svd_dict.get(node,[0.0, 0.0, 0.0, 0.0, 0.0])\n",
    "    return list(z)"
   ]
  },
  {
   "cell_type": "code",
   "execution_count": null,
   "metadata": {},
   "outputs": [
    {
     "name": "stderr",
     "output_type": "stream",
     "text": [
      " 50%|█████████████████████████████████████████████████████████████████████████████████████▉                                                                                      | 3821119/7649348 [05:06<00:31, 123058.97it/s]"
     ]
    }
   ],
   "source": [
    "train_data[\"svd_f1\"],train_data[\"svd_f2\"],train_data[\"svd_f3\"],train_data[\"svd_f4\"],train_data[\"svd_f5\"] = \\\n",
    "                                                         train_data['source_node'].progress_apply(svd_features)"
   ]
  },
  {
   "cell_type": "code",
   "execution_count": 94,
   "metadata": {},
   "outputs": [
    {
     "data": {
      "text/html": [
       "<div>\n",
       "<style scoped>\n",
       "    .dataframe tbody tr th:only-of-type {\n",
       "        vertical-align: middle;\n",
       "    }\n",
       "\n",
       "    .dataframe tbody tr th {\n",
       "        vertical-align: top;\n",
       "    }\n",
       "\n",
       "    .dataframe thead th {\n",
       "        text-align: right;\n",
       "    }\n",
       "</style>\n",
       "<table border=\"1\" class=\"dataframe\">\n",
       "  <thead>\n",
       "    <tr style=\"text-align: right;\">\n",
       "      <th></th>\n",
       "      <th>source_node</th>\n",
       "      <th>destination_node</th>\n",
       "      <th>source_predecessor</th>\n",
       "      <th>source_successor</th>\n",
       "      <th>destination_predecessor</th>\n",
       "      <th>destination_successor</th>\n",
       "      <th>jaccard_for_predecessor</th>\n",
       "      <th>jaccard_for_successor</th>\n",
       "      <th>jaccard_for_pred_succ</th>\n",
       "      <th>cosine_for_predecessor</th>\n",
       "      <th>...</th>\n",
       "      <th>belongs_same_strongly_community</th>\n",
       "      <th>adar_index</th>\n",
       "      <th>pagerank_predecessor</th>\n",
       "      <th>pagerank_successor</th>\n",
       "      <th>katzCentrality_predecessor</th>\n",
       "      <th>katzCentrality_successor</th>\n",
       "      <th>hub_predecessor</th>\n",
       "      <th>hub_successor</th>\n",
       "      <th>authority_predecessor</th>\n",
       "      <th>authority_successor</th>\n",
       "    </tr>\n",
       "  </thead>\n",
       "  <tbody>\n",
       "    <tr>\n",
       "      <th>0</th>\n",
       "      <td>1116096</td>\n",
       "      <td>98008</td>\n",
       "      <td>53</td>\n",
       "      <td>77</td>\n",
       "      <td>4</td>\n",
       "      <td>5</td>\n",
       "      <td>0.036364</td>\n",
       "      <td>0.051282</td>\n",
       "      <td>0.038462</td>\n",
       "      <td>0.009434</td>\n",
       "      <td>...</td>\n",
       "      <td>0</td>\n",
       "      <td>1.359393</td>\n",
       "      <td>1.766496e-06</td>\n",
       "      <td>2.973301e-07</td>\n",
       "      <td>0.000920</td>\n",
       "      <td>0.000757</td>\n",
       "      <td>1.063084e-14</td>\n",
       "      <td>8.050301e-16</td>\n",
       "      <td>3.904481e-14</td>\n",
       "      <td>2.885838e-15</td>\n",
       "    </tr>\n",
       "    <tr>\n",
       "      <th>1</th>\n",
       "      <td>1802090</td>\n",
       "      <td>138943</td>\n",
       "      <td>13</td>\n",
       "      <td>7</td>\n",
       "      <td>15</td>\n",
       "      <td>10</td>\n",
       "      <td>0.166667</td>\n",
       "      <td>0.133333</td>\n",
       "      <td>0.222222</td>\n",
       "      <td>0.020513</td>\n",
       "      <td>...</td>\n",
       "      <td>0</td>\n",
       "      <td>1.663277</td>\n",
       "      <td>1.104992e-06</td>\n",
       "      <td>4.826087e-07</td>\n",
       "      <td>0.000783</td>\n",
       "      <td>0.000781</td>\n",
       "      <td>3.201043e-14</td>\n",
       "      <td>3.201585e-14</td>\n",
       "      <td>1.039542e-15</td>\n",
       "      <td>1.621770e-15</td>\n",
       "    </tr>\n",
       "    <tr>\n",
       "      <th>2</th>\n",
       "      <td>725604</td>\n",
       "      <td>1631748</td>\n",
       "      <td>3</td>\n",
       "      <td>4</td>\n",
       "      <td>2</td>\n",
       "      <td>0</td>\n",
       "      <td>0.000000</td>\n",
       "      <td>0.000000</td>\n",
       "      <td>0.000000</td>\n",
       "      <td>0.000000</td>\n",
       "      <td>...</td>\n",
       "      <td>0</td>\n",
       "      <td>0.000000</td>\n",
       "      <td>1.650606e-06</td>\n",
       "      <td>2.678509e-07</td>\n",
       "      <td>0.000754</td>\n",
       "      <td>0.000739</td>\n",
       "      <td>1.227069e-17</td>\n",
       "      <td>1.846375e-20</td>\n",
       "      <td>2.572396e-18</td>\n",
       "      <td>6.057453e-18</td>\n",
       "    </tr>\n",
       "    <tr>\n",
       "      <th>3</th>\n",
       "      <td>430881</td>\n",
       "      <td>127882</td>\n",
       "      <td>19</td>\n",
       "      <td>11</td>\n",
       "      <td>16</td>\n",
       "      <td>19</td>\n",
       "      <td>0.521739</td>\n",
       "      <td>0.304348</td>\n",
       "      <td>0.350000</td>\n",
       "      <td>0.039474</td>\n",
       "      <td>...</td>\n",
       "      <td>0</td>\n",
       "      <td>5.722252</td>\n",
       "      <td>5.350317e-07</td>\n",
       "      <td>5.827873e-07</td>\n",
       "      <td>0.000787</td>\n",
       "      <td>0.000791</td>\n",
       "      <td>1.361818e-19</td>\n",
       "      <td>3.025044e-19</td>\n",
       "      <td>1.988917e-18</td>\n",
       "      <td>1.007531e-18</td>\n",
       "    </tr>\n",
       "    <tr>\n",
       "      <th>4</th>\n",
       "      <td>1134745</td>\n",
       "      <td>1613651</td>\n",
       "      <td>15</td>\n",
       "      <td>69</td>\n",
       "      <td>86</td>\n",
       "      <td>99</td>\n",
       "      <td>0.097826</td>\n",
       "      <td>0.486726</td>\n",
       "      <td>0.476190</td>\n",
       "      <td>0.006977</td>\n",
       "      <td>...</td>\n",
       "      <td>0</td>\n",
       "      <td>13.577117</td>\n",
       "      <td>2.479396e-07</td>\n",
       "      <td>8.159082e-07</td>\n",
       "      <td>0.000825</td>\n",
       "      <td>0.001308</td>\n",
       "      <td>4.737978e-11</td>\n",
       "      <td>4.995488e-11</td>\n",
       "      <td>4.186063e-12</td>\n",
       "      <td>2.621834e-11</td>\n",
       "    </tr>\n",
       "  </tbody>\n",
       "</table>\n",
       "<p>5 rows × 23 columns</p>\n",
       "</div>"
      ],
      "text/plain": [
       "   source_node  destination_node  source_predecessor  source_successor  \\\n",
       "0      1116096             98008                  53                77   \n",
       "1      1802090            138943                  13                 7   \n",
       "2       725604           1631748                   3                 4   \n",
       "3       430881            127882                  19                11   \n",
       "4      1134745           1613651                  15                69   \n",
       "\n",
       "   destination_predecessor  destination_successor  jaccard_for_predecessor  \\\n",
       "0                        4                      5                 0.036364   \n",
       "1                       15                     10                 0.166667   \n",
       "2                        2                      0                 0.000000   \n",
       "3                       16                     19                 0.521739   \n",
       "4                       86                     99                 0.097826   \n",
       "\n",
       "   jaccard_for_successor  jaccard_for_pred_succ  cosine_for_predecessor  ...  \\\n",
       "0               0.051282               0.038462                0.009434  ...   \n",
       "1               0.133333               0.222222                0.020513  ...   \n",
       "2               0.000000               0.000000                0.000000  ...   \n",
       "3               0.304348               0.350000                0.039474  ...   \n",
       "4               0.486726               0.476190                0.006977  ...   \n",
       "\n",
       "   belongs_same_strongly_community  adar_index  pagerank_predecessor  \\\n",
       "0                                0    1.359393          1.766496e-06   \n",
       "1                                0    1.663277          1.104992e-06   \n",
       "2                                0    0.000000          1.650606e-06   \n",
       "3                                0    5.722252          5.350317e-07   \n",
       "4                                0   13.577117          2.479396e-07   \n",
       "\n",
       "   pagerank_successor  katzCentrality_predecessor  katzCentrality_successor  \\\n",
       "0        2.973301e-07                    0.000920                  0.000757   \n",
       "1        4.826087e-07                    0.000783                  0.000781   \n",
       "2        2.678509e-07                    0.000754                  0.000739   \n",
       "3        5.827873e-07                    0.000787                  0.000791   \n",
       "4        8.159082e-07                    0.000825                  0.001308   \n",
       "\n",
       "   hub_predecessor  hub_successor  authority_predecessor  authority_successor  \n",
       "0     1.063084e-14   8.050301e-16           3.904481e-14         2.885838e-15  \n",
       "1     3.201043e-14   3.201585e-14           1.039542e-15         1.621770e-15  \n",
       "2     1.227069e-17   1.846375e-20           2.572396e-18         6.057453e-18  \n",
       "3     1.361818e-19   3.025044e-19           1.988917e-18         1.007531e-18  \n",
       "4     4.737978e-11   4.995488e-11           4.186063e-12         2.621834e-11  \n",
       "\n",
       "[5 rows x 23 columns]"
      ]
     },
     "execution_count": 94,
     "metadata": {},
     "output_type": "execute_result"
    }
   ],
   "source": [
    "train_data[\"svd_f6\"],train_data[\"svd_f7\"],train_data[\"svd_f8\"],train_data[\"svd_f9\"],train_data[\"svd_f10\"] = \\\n",
    "                                                         train_data['destination_node'].progress_apply(svd_features)"
   ]
  }
 ],
 "metadata": {
  "kernelspec": {
   "display_name": "Python 3",
   "language": "python",
   "name": "python3"
  },
  "language_info": {
   "codemirror_mode": {
    "name": "ipython",
    "version": 3
   },
   "file_extension": ".py",
   "mimetype": "text/x-python",
   "name": "python",
   "nbconvert_exporter": "python",
   "pygments_lexer": "ipython3",
   "version": "3.6.4"
  }
 },
 "nbformat": 4,
 "nbformat_minor": 2
}
